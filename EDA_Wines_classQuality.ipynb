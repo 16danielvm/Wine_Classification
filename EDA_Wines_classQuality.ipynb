{
 "cells": [
  {
   "cell_type": "markdown",
   "metadata": {},
   "source": [
    "# EDA de vinos para predicciòn de su calidad\n",
    ".\n",
    ".\n",
    "# LOADING..."
   ]
  }
 ],
 "metadata": {
  "language_info": {
   "name": "python"
  },
  "orig_nbformat": 4
 },
 "nbformat": 4,
 "nbformat_minor": 2
}
