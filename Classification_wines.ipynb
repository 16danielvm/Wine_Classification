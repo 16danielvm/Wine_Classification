{
 "cells": [
  {
   "cell_type": "markdown",
   "metadata": {},
   "source": [
    "# Classification wine"
   ]
  },
  {
   "cell_type": "code",
   "execution_count": 1,
   "metadata": {},
   "outputs": [],
   "source": [
    "import pandas as pd\n",
    "import numpy as np"
   ]
  },
  {
   "cell_type": "code",
   "execution_count": 2,
   "metadata": {},
   "outputs": [],
   "source": [
    "pd.set_option('max_columns', None)"
   ]
  },
  {
   "cell_type": "code",
   "execution_count": 3,
   "metadata": {},
   "outputs": [
    {
     "data": {
      "text/html": [
       "<div>\n",
       "<style scoped>\n",
       "    .dataframe tbody tr th:only-of-type {\n",
       "        vertical-align: middle;\n",
       "    }\n",
       "\n",
       "    .dataframe tbody tr th {\n",
       "        vertical-align: top;\n",
       "    }\n",
       "\n",
       "    .dataframe thead th {\n",
       "        text-align: right;\n",
       "    }\n",
       "</style>\n",
       "<table border=\"1\" class=\"dataframe\">\n",
       "  <thead>\n",
       "    <tr style=\"text-align: right;\">\n",
       "      <th></th>\n",
       "      <th>fixed acidity</th>\n",
       "      <th>volatile acidity</th>\n",
       "      <th>citric acid</th>\n",
       "      <th>residual sugar</th>\n",
       "      <th>chlorides</th>\n",
       "      <th>free sulfur dioxide</th>\n",
       "      <th>total sulfur dioxide</th>\n",
       "      <th>density</th>\n",
       "      <th>pH</th>\n",
       "      <th>sulphates</th>\n",
       "      <th>type</th>\n",
       "    </tr>\n",
       "  </thead>\n",
       "  <tbody>\n",
       "    <tr>\n",
       "      <th>0</th>\n",
       "      <td>7.0</td>\n",
       "      <td>0.27</td>\n",
       "      <td>0.36</td>\n",
       "      <td>20.7</td>\n",
       "      <td>0.045</td>\n",
       "      <td>45.0</td>\n",
       "      <td>170.0</td>\n",
       "      <td>1.0010</td>\n",
       "      <td>3.00</td>\n",
       "      <td>0.45</td>\n",
       "      <td>White</td>\n",
       "    </tr>\n",
       "    <tr>\n",
       "      <th>1</th>\n",
       "      <td>6.3</td>\n",
       "      <td>0.30</td>\n",
       "      <td>0.34</td>\n",
       "      <td>1.6</td>\n",
       "      <td>0.049</td>\n",
       "      <td>14.0</td>\n",
       "      <td>132.0</td>\n",
       "      <td>0.9940</td>\n",
       "      <td>3.30</td>\n",
       "      <td>0.49</td>\n",
       "      <td>White</td>\n",
       "    </tr>\n",
       "    <tr>\n",
       "      <th>2</th>\n",
       "      <td>8.1</td>\n",
       "      <td>0.28</td>\n",
       "      <td>0.40</td>\n",
       "      <td>6.9</td>\n",
       "      <td>0.050</td>\n",
       "      <td>30.0</td>\n",
       "      <td>97.0</td>\n",
       "      <td>0.9951</td>\n",
       "      <td>3.26</td>\n",
       "      <td>0.44</td>\n",
       "      <td>White</td>\n",
       "    </tr>\n",
       "    <tr>\n",
       "      <th>3</th>\n",
       "      <td>7.2</td>\n",
       "      <td>0.23</td>\n",
       "      <td>0.32</td>\n",
       "      <td>8.5</td>\n",
       "      <td>0.058</td>\n",
       "      <td>47.0</td>\n",
       "      <td>186.0</td>\n",
       "      <td>0.9956</td>\n",
       "      <td>3.19</td>\n",
       "      <td>0.40</td>\n",
       "      <td>White</td>\n",
       "    </tr>\n",
       "    <tr>\n",
       "      <th>4</th>\n",
       "      <td>6.2</td>\n",
       "      <td>0.32</td>\n",
       "      <td>0.16</td>\n",
       "      <td>7.0</td>\n",
       "      <td>0.045</td>\n",
       "      <td>30.0</td>\n",
       "      <td>136.0</td>\n",
       "      <td>0.9949</td>\n",
       "      <td>3.18</td>\n",
       "      <td>0.47</td>\n",
       "      <td>White</td>\n",
       "    </tr>\n",
       "  </tbody>\n",
       "</table>\n",
       "</div>"
      ],
      "text/plain": [
       "   fixed acidity  volatile acidity  citric acid  residual sugar  chlorides  \\\n",
       "0            7.0              0.27         0.36            20.7      0.045   \n",
       "1            6.3              0.30         0.34             1.6      0.049   \n",
       "2            8.1              0.28         0.40             6.9      0.050   \n",
       "3            7.2              0.23         0.32             8.5      0.058   \n",
       "4            6.2              0.32         0.16             7.0      0.045   \n",
       "\n",
       "   free sulfur dioxide  total sulfur dioxide  density    pH  sulphates   type  \n",
       "0                 45.0                 170.0   1.0010  3.00       0.45  White  \n",
       "1                 14.0                 132.0   0.9940  3.30       0.49  White  \n",
       "2                 30.0                  97.0   0.9951  3.26       0.44  White  \n",
       "3                 47.0                 186.0   0.9956  3.19       0.40  White  \n",
       "4                 30.0                 136.0   0.9949  3.18       0.47  White  "
      ]
     },
     "execution_count": 3,
     "metadata": {},
     "output_type": "execute_result"
    }
   ],
   "source": [
    "df_wines = pd.read_csv('df_wines_toClassification.csv', usecols=['fixed acidity', 'volatile acidity', 'citric acid', 'residual sugar','chlorides', 'free sulfur dioxide', 'total sulfur dioxide', 'density',\n",
    "       'pH', 'sulphates', 'type'])\n",
    "df_wines.head()"
   ]
  },
  {
   "cell_type": "markdown",
   "metadata": {},
   "source": [
    "Segun la conclusion del analisis de los datos, para la clasificacion del vino segun su tipo, excluimos el alcohol y quality."
   ]
  },
  {
   "cell_type": "code",
   "execution_count": 4,
   "metadata": {},
   "outputs": [
    {
     "name": "stdout",
     "output_type": "stream",
     "text": [
      "<class 'pandas.core.frame.DataFrame'>\n",
      "RangeIndex: 5302 entries, 0 to 5301\n",
      "Data columns (total 11 columns):\n",
      " #   Column                Non-Null Count  Dtype  \n",
      "---  ------                --------------  -----  \n",
      " 0   fixed acidity         5302 non-null   float64\n",
      " 1   volatile acidity      5302 non-null   float64\n",
      " 2   citric acid           5302 non-null   float64\n",
      " 3   residual sugar        5302 non-null   float64\n",
      " 4   chlorides             5302 non-null   float64\n",
      " 5   free sulfur dioxide   5302 non-null   float64\n",
      " 6   total sulfur dioxide  5302 non-null   float64\n",
      " 7   density               5302 non-null   float64\n",
      " 8   pH                    5302 non-null   float64\n",
      " 9   sulphates             5302 non-null   float64\n",
      " 10  type                  5302 non-null   object \n",
      "dtypes: float64(10), object(1)\n",
      "memory usage: 455.8+ KB\n"
     ]
    }
   ],
   "source": [
    "df_wines.info()"
   ]
  },
  {
   "cell_type": "markdown",
   "metadata": {},
   "source": [
    "#### Cambiaremos los valores de type, 0-> Red, 1 -> White"
   ]
  },
  {
   "cell_type": "code",
   "execution_count": 5,
   "metadata": {},
   "outputs": [],
   "source": [
    "from sklearn.preprocessing import LabelEncoder"
   ]
  },
  {
   "cell_type": "code",
   "execution_count": 6,
   "metadata": {},
   "outputs": [],
   "source": [
    "le = LabelEncoder()\n",
    "df_wines['type_encode'] = le.fit_transform(df_wines['type'])"
   ]
  },
  {
   "cell_type": "code",
   "execution_count": 7,
   "metadata": {},
   "outputs": [
    {
     "data": {
      "text/html": [
       "<div>\n",
       "<style scoped>\n",
       "    .dataframe tbody tr th:only-of-type {\n",
       "        vertical-align: middle;\n",
       "    }\n",
       "\n",
       "    .dataframe tbody tr th {\n",
       "        vertical-align: top;\n",
       "    }\n",
       "\n",
       "    .dataframe thead th {\n",
       "        text-align: right;\n",
       "    }\n",
       "</style>\n",
       "<table border=\"1\" class=\"dataframe\">\n",
       "  <thead>\n",
       "    <tr style=\"text-align: right;\">\n",
       "      <th></th>\n",
       "      <th>type_encode</th>\n",
       "      <th>type</th>\n",
       "    </tr>\n",
       "  </thead>\n",
       "  <tbody>\n",
       "    <tr>\n",
       "      <th>0</th>\n",
       "      <td>1</td>\n",
       "      <td>White</td>\n",
       "    </tr>\n",
       "    <tr>\n",
       "      <th>1</th>\n",
       "      <td>1</td>\n",
       "      <td>White</td>\n",
       "    </tr>\n",
       "  </tbody>\n",
       "</table>\n",
       "</div>"
      ],
      "text/plain": [
       "   type_encode   type\n",
       "0            1  White\n",
       "1            1  White"
      ]
     },
     "execution_count": 7,
     "metadata": {},
     "output_type": "execute_result"
    }
   ],
   "source": [
    "df_wines[['type_encode','type']].head(2)"
   ]
  },
  {
   "cell_type": "code",
   "execution_count": 8,
   "metadata": {},
   "outputs": [
    {
     "data": {
      "text/html": [
       "<div>\n",
       "<style scoped>\n",
       "    .dataframe tbody tr th:only-of-type {\n",
       "        vertical-align: middle;\n",
       "    }\n",
       "\n",
       "    .dataframe tbody tr th {\n",
       "        vertical-align: top;\n",
       "    }\n",
       "\n",
       "    .dataframe thead th {\n",
       "        text-align: right;\n",
       "    }\n",
       "</style>\n",
       "<table border=\"1\" class=\"dataframe\">\n",
       "  <thead>\n",
       "    <tr style=\"text-align: right;\">\n",
       "      <th></th>\n",
       "      <th>type_encode</th>\n",
       "      <th>type</th>\n",
       "    </tr>\n",
       "  </thead>\n",
       "  <tbody>\n",
       "    <tr>\n",
       "      <th>5300</th>\n",
       "      <td>0</td>\n",
       "      <td>Red</td>\n",
       "    </tr>\n",
       "    <tr>\n",
       "      <th>5301</th>\n",
       "      <td>0</td>\n",
       "      <td>Red</td>\n",
       "    </tr>\n",
       "  </tbody>\n",
       "</table>\n",
       "</div>"
      ],
      "text/plain": [
       "      type_encode type\n",
       "5300            0  Red\n",
       "5301            0  Red"
      ]
     },
     "execution_count": 8,
     "metadata": {},
     "output_type": "execute_result"
    }
   ],
   "source": [
    "df_wines[['type_encode','type']].tail(2)"
   ]
  },
  {
   "cell_type": "code",
   "execution_count": 9,
   "metadata": {},
   "outputs": [
    {
     "data": {
      "text/plain": [
       "array([1, 0])"
      ]
     },
     "execution_count": 9,
     "metadata": {},
     "output_type": "execute_result"
    }
   ],
   "source": [
    "df_wines.type_encode.unique()"
   ]
  },
  {
   "cell_type": "code",
   "execution_count": 10,
   "metadata": {},
   "outputs": [],
   "source": [
    "from sklearn.preprocessing import StandardScaler"
   ]
  },
  {
   "cell_type": "code",
   "execution_count": 11,
   "metadata": {},
   "outputs": [],
   "source": [
    "scaler = StandardScaler()\n",
    "df_wines[['fixed acidity', 'volatile acidity', 'citric acid', 'residual sugar','chlorides', 'free sulfur dioxide', 'total sulfur dioxide', 'density','pH', 'sulphates']] = scaler.fit_transform(df_wines[['fixed acidity', 'volatile acidity', 'citric acid', 'residual sugar','chlorides', 'free sulfur dioxide', 'total sulfur dioxide', 'density','pH', 'sulphates']])"
   ]
  },
  {
   "cell_type": "code",
   "execution_count": 12,
   "metadata": {},
   "outputs": [
    {
     "data": {
      "text/html": [
       "<div>\n",
       "<style scoped>\n",
       "    .dataframe tbody tr th:only-of-type {\n",
       "        vertical-align: middle;\n",
       "    }\n",
       "\n",
       "    .dataframe tbody tr th {\n",
       "        vertical-align: top;\n",
       "    }\n",
       "\n",
       "    .dataframe thead th {\n",
       "        text-align: right;\n",
       "    }\n",
       "</style>\n",
       "<table border=\"1\" class=\"dataframe\">\n",
       "  <thead>\n",
       "    <tr style=\"text-align: right;\">\n",
       "      <th></th>\n",
       "      <th>fixed acidity</th>\n",
       "      <th>volatile acidity</th>\n",
       "      <th>citric acid</th>\n",
       "      <th>residual sugar</th>\n",
       "      <th>chlorides</th>\n",
       "      <th>free sulfur dioxide</th>\n",
       "      <th>total sulfur dioxide</th>\n",
       "      <th>density</th>\n",
       "      <th>pH</th>\n",
       "      <th>sulphates</th>\n",
       "      <th>type</th>\n",
       "      <th>type_encode</th>\n",
       "    </tr>\n",
       "  </thead>\n",
       "  <tbody>\n",
       "    <tr>\n",
       "      <th>0</th>\n",
       "      <td>-0.159701</td>\n",
       "      <td>-0.440838</td>\n",
       "      <td>0.292387</td>\n",
       "      <td>3.553645</td>\n",
       "      <td>-0.324804</td>\n",
       "      <td>0.863307</td>\n",
       "      <td>0.998873</td>\n",
       "      <td>2.238849</td>\n",
       "      <td>-1.405957</td>\n",
       "      <td>-0.565671</td>\n",
       "      <td>White</td>\n",
       "      <td>1</td>\n",
       "    </tr>\n",
       "    <tr>\n",
       "      <th>1</th>\n",
       "      <td>-0.693989</td>\n",
       "      <td>-0.261561</td>\n",
       "      <td>0.154343</td>\n",
       "      <td>-0.778445</td>\n",
       "      <td>-0.211410</td>\n",
       "      <td>-0.917994</td>\n",
       "      <td>0.323077</td>\n",
       "      <td>-0.180141</td>\n",
       "      <td>0.467977</td>\n",
       "      <td>-0.290775</td>\n",
       "      <td>White</td>\n",
       "      <td>1</td>\n",
       "    </tr>\n",
       "    <tr>\n",
       "      <th>2</th>\n",
       "      <td>0.679896</td>\n",
       "      <td>-0.381079</td>\n",
       "      <td>0.568475</td>\n",
       "      <td>0.423653</td>\n",
       "      <td>-0.183062</td>\n",
       "      <td>0.001387</td>\n",
       "      <td>-0.299366</td>\n",
       "      <td>0.199986</td>\n",
       "      <td>0.218119</td>\n",
       "      <td>-0.634395</td>\n",
       "      <td>White</td>\n",
       "      <td>1</td>\n",
       "    </tr>\n",
       "    <tr>\n",
       "      <th>3</th>\n",
       "      <td>-0.007047</td>\n",
       "      <td>-0.679873</td>\n",
       "      <td>0.016299</td>\n",
       "      <td>0.786551</td>\n",
       "      <td>0.043726</td>\n",
       "      <td>0.978230</td>\n",
       "      <td>1.283418</td>\n",
       "      <td>0.372771</td>\n",
       "      <td>-0.219132</td>\n",
       "      <td>-0.909291</td>\n",
       "      <td>White</td>\n",
       "      <td>1</td>\n",
       "    </tr>\n",
       "    <tr>\n",
       "      <th>4</th>\n",
       "      <td>-0.770316</td>\n",
       "      <td>-0.142043</td>\n",
       "      <td>-1.088053</td>\n",
       "      <td>0.446335</td>\n",
       "      <td>-0.324804</td>\n",
       "      <td>0.001387</td>\n",
       "      <td>0.394213</td>\n",
       "      <td>0.130872</td>\n",
       "      <td>-0.281597</td>\n",
       "      <td>-0.428223</td>\n",
       "      <td>White</td>\n",
       "      <td>1</td>\n",
       "    </tr>\n",
       "    <tr>\n",
       "      <th>...</th>\n",
       "      <td>...</td>\n",
       "      <td>...</td>\n",
       "      <td>...</td>\n",
       "      <td>...</td>\n",
       "      <td>...</td>\n",
       "      <td>...</td>\n",
       "      <td>...</td>\n",
       "      <td>...</td>\n",
       "      <td>...</td>\n",
       "      <td>...</td>\n",
       "      <td>...</td>\n",
       "      <td>...</td>\n",
       "    </tr>\n",
       "    <tr>\n",
       "      <th>5297</th>\n",
       "      <td>-0.312355</td>\n",
       "      <td>1.650725</td>\n",
       "      <td>-1.640229</td>\n",
       "      <td>-0.710401</td>\n",
       "      <td>0.327210</td>\n",
       "      <td>-0.113535</td>\n",
       "      <td>-1.348628</td>\n",
       "      <td>0.687240</td>\n",
       "      <td>1.217550</td>\n",
       "      <td>1.977120</td>\n",
       "      <td>Red</td>\n",
       "      <td>0</td>\n",
       "    </tr>\n",
       "    <tr>\n",
       "      <th>5298</th>\n",
       "      <td>-0.770316</td>\n",
       "      <td>1.531207</td>\n",
       "      <td>-1.640229</td>\n",
       "      <td>-0.687720</td>\n",
       "      <td>0.950876</td>\n",
       "      <td>0.116310</td>\n",
       "      <td>-1.241923</td>\n",
       "      <td>0.130872</td>\n",
       "      <td>1.404944</td>\n",
       "      <td>0.327742</td>\n",
       "      <td>Red</td>\n",
       "      <td>0</td>\n",
       "    </tr>\n",
       "    <tr>\n",
       "      <th>5299</th>\n",
       "      <td>-0.999297</td>\n",
       "      <td>1.232412</td>\n",
       "      <td>-1.502185</td>\n",
       "      <td>-0.642358</td>\n",
       "      <td>0.157119</td>\n",
       "      <td>0.518539</td>\n",
       "      <td>-1.117434</td>\n",
       "      <td>0.206897</td>\n",
       "      <td>1.842195</td>\n",
       "      <td>1.564775</td>\n",
       "      <td>Red</td>\n",
       "      <td>0</td>\n",
       "    </tr>\n",
       "    <tr>\n",
       "      <th>5300</th>\n",
       "      <td>-0.999297</td>\n",
       "      <td>1.800122</td>\n",
       "      <td>-1.364141</td>\n",
       "      <td>-0.687720</td>\n",
       "      <td>0.525649</td>\n",
       "      <td>0.116310</td>\n",
       "      <td>-1.241923</td>\n",
       "      <td>0.327847</td>\n",
       "      <td>2.154517</td>\n",
       "      <td>1.221155</td>\n",
       "      <td>Red</td>\n",
       "      <td>0</td>\n",
       "    </tr>\n",
       "    <tr>\n",
       "      <th>5301</th>\n",
       "      <td>-0.922970</td>\n",
       "      <td>-0.201802</td>\n",
       "      <td>1.051628</td>\n",
       "      <td>-0.324823</td>\n",
       "      <td>0.298862</td>\n",
       "      <td>-0.688149</td>\n",
       "      <td>-1.277491</td>\n",
       "      <td>0.334758</td>\n",
       "      <td>1.030157</td>\n",
       "      <td>0.877535</td>\n",
       "      <td>Red</td>\n",
       "      <td>0</td>\n",
       "    </tr>\n",
       "  </tbody>\n",
       "</table>\n",
       "<p>5302 rows × 12 columns</p>\n",
       "</div>"
      ],
      "text/plain": [
       "      fixed acidity  volatile acidity  citric acid  residual sugar  chlorides  \\\n",
       "0         -0.159701         -0.440838     0.292387        3.553645  -0.324804   \n",
       "1         -0.693989         -0.261561     0.154343       -0.778445  -0.211410   \n",
       "2          0.679896         -0.381079     0.568475        0.423653  -0.183062   \n",
       "3         -0.007047         -0.679873     0.016299        0.786551   0.043726   \n",
       "4         -0.770316         -0.142043    -1.088053        0.446335  -0.324804   \n",
       "...             ...               ...          ...             ...        ...   \n",
       "5297      -0.312355          1.650725    -1.640229       -0.710401   0.327210   \n",
       "5298      -0.770316          1.531207    -1.640229       -0.687720   0.950876   \n",
       "5299      -0.999297          1.232412    -1.502185       -0.642358   0.157119   \n",
       "5300      -0.999297          1.800122    -1.364141       -0.687720   0.525649   \n",
       "5301      -0.922970         -0.201802     1.051628       -0.324823   0.298862   \n",
       "\n",
       "      free sulfur dioxide  total sulfur dioxide   density        pH  \\\n",
       "0                0.863307              0.998873  2.238849 -1.405957   \n",
       "1               -0.917994              0.323077 -0.180141  0.467977   \n",
       "2                0.001387             -0.299366  0.199986  0.218119   \n",
       "3                0.978230              1.283418  0.372771 -0.219132   \n",
       "4                0.001387              0.394213  0.130872 -0.281597   \n",
       "...                   ...                   ...       ...       ...   \n",
       "5297            -0.113535             -1.348628  0.687240  1.217550   \n",
       "5298             0.116310             -1.241923  0.130872  1.404944   \n",
       "5299             0.518539             -1.117434  0.206897  1.842195   \n",
       "5300             0.116310             -1.241923  0.327847  2.154517   \n",
       "5301            -0.688149             -1.277491  0.334758  1.030157   \n",
       "\n",
       "      sulphates   type  type_encode  \n",
       "0     -0.565671  White            1  \n",
       "1     -0.290775  White            1  \n",
       "2     -0.634395  White            1  \n",
       "3     -0.909291  White            1  \n",
       "4     -0.428223  White            1  \n",
       "...         ...    ...          ...  \n",
       "5297   1.977120    Red            0  \n",
       "5298   0.327742    Red            0  \n",
       "5299   1.564775    Red            0  \n",
       "5300   1.221155    Red            0  \n",
       "5301   0.877535    Red            0  \n",
       "\n",
       "[5302 rows x 12 columns]"
      ]
     },
     "execution_count": 12,
     "metadata": {},
     "output_type": "execute_result"
    }
   ],
   "source": [
    "df_wines"
   ]
  },
  {
   "cell_type": "markdown",
   "metadata": {},
   "source": [
    "Con los datos estandarizados, procedemos a implementar algoritmos de clasificacion pero antes:"
   ]
  },
  {
   "cell_type": "code",
   "execution_count": 13,
   "metadata": {},
   "outputs": [
    {
     "data": {
      "text/plain": [
       "(5302, 12)"
      ]
     },
     "execution_count": 13,
     "metadata": {},
     "output_type": "execute_result"
    }
   ],
   "source": [
    "df_wines.shape"
   ]
  },
  {
   "cell_type": "code",
   "execution_count": 14,
   "metadata": {},
   "outputs": [],
   "source": [
    "df_wines_red = df_wines[df_wines['type']== 'Red']"
   ]
  },
  {
   "cell_type": "code",
   "execution_count": 15,
   "metadata": {},
   "outputs": [
    {
     "data": {
      "text/plain": [
       "(3951, 12)"
      ]
     },
     "execution_count": 15,
     "metadata": {},
     "output_type": "execute_result"
    }
   ],
   "source": [
    "df_wines[df_wines['type']== 'White'].shape"
   ]
  },
  {
   "cell_type": "markdown",
   "metadata": {},
   "source": [
    "La idea es utilizar un dataset de entrenamiento balanceado segun las clases del tipo de vino. Por esa razon aleatoriamente escogeremos 1351 datos de vino blanco igualando la cantidad de datos que tiene el vino rojo."
   ]
  },
  {
   "cell_type": "code",
   "execution_count": 16,
   "metadata": {},
   "outputs": [],
   "source": [
    "df_wines_white = df_wines[df_wines['type']== 'White'].sample(1351)\n"
   ]
  },
  {
   "cell_type": "code",
   "execution_count": 17,
   "metadata": {},
   "outputs": [
    {
     "data": {
      "text/plain": [
       "(1351, 12)"
      ]
     },
     "execution_count": 17,
     "metadata": {},
     "output_type": "execute_result"
    }
   ],
   "source": [
    "df_wines_white.shape"
   ]
  },
  {
   "cell_type": "code",
   "execution_count": 18,
   "metadata": {},
   "outputs": [
    {
     "data": {
      "text/html": [
       "<div>\n",
       "<style scoped>\n",
       "    .dataframe tbody tr th:only-of-type {\n",
       "        vertical-align: middle;\n",
       "    }\n",
       "\n",
       "    .dataframe tbody tr th {\n",
       "        vertical-align: top;\n",
       "    }\n",
       "\n",
       "    .dataframe thead th {\n",
       "        text-align: right;\n",
       "    }\n",
       "</style>\n",
       "<table border=\"1\" class=\"dataframe\">\n",
       "  <thead>\n",
       "    <tr style=\"text-align: right;\">\n",
       "      <th></th>\n",
       "      <th>fixed acidity</th>\n",
       "      <th>volatile acidity</th>\n",
       "      <th>citric acid</th>\n",
       "      <th>residual sugar</th>\n",
       "      <th>chlorides</th>\n",
       "      <th>free sulfur dioxide</th>\n",
       "      <th>total sulfur dioxide</th>\n",
       "      <th>density</th>\n",
       "      <th>pH</th>\n",
       "      <th>sulphates</th>\n",
       "      <th>type</th>\n",
       "      <th>type_encode</th>\n",
       "    </tr>\n",
       "  </thead>\n",
       "  <tbody>\n",
       "    <tr>\n",
       "      <th>0</th>\n",
       "      <td>-1.533585</td>\n",
       "      <td>0.096993</td>\n",
       "      <td>-2.054361</td>\n",
       "      <td>-0.778445</td>\n",
       "      <td>-0.721682</td>\n",
       "      <td>-0.343381</td>\n",
       "      <td>-0.174877</td>\n",
       "      <td>-1.700649</td>\n",
       "      <td>1.342479</td>\n",
       "      <td>-1.252912</td>\n",
       "      <td>White</td>\n",
       "      <td>1</td>\n",
       "    </tr>\n",
       "    <tr>\n",
       "      <th>1</th>\n",
       "      <td>-0.083374</td>\n",
       "      <td>-0.679873</td>\n",
       "      <td>0.499453</td>\n",
       "      <td>1.965968</td>\n",
       "      <td>0.043726</td>\n",
       "      <td>-0.228458</td>\n",
       "      <td>1.034441</td>\n",
       "      <td>1.046633</td>\n",
       "      <td>-2.030601</td>\n",
       "      <td>-0.496947</td>\n",
       "      <td>White</td>\n",
       "      <td>1</td>\n",
       "    </tr>\n",
       "    <tr>\n",
       "      <th>2</th>\n",
       "      <td>-0.236028</td>\n",
       "      <td>0.336028</td>\n",
       "      <td>-1.019031</td>\n",
       "      <td>1.784519</td>\n",
       "      <td>-0.664985</td>\n",
       "      <td>1.667766</td>\n",
       "      <td>1.283418</td>\n",
       "      <td>1.043177</td>\n",
       "      <td>-0.906241</td>\n",
       "      <td>-0.290775</td>\n",
       "      <td>White</td>\n",
       "      <td>1</td>\n",
       "    </tr>\n",
       "    <tr>\n",
       "      <th>3</th>\n",
       "      <td>-1.228278</td>\n",
       "      <td>-0.500597</td>\n",
       "      <td>-0.950009</td>\n",
       "      <td>-0.823807</td>\n",
       "      <td>-0.636637</td>\n",
       "      <td>-0.688149</td>\n",
       "      <td>0.376429</td>\n",
       "      <td>-0.961129</td>\n",
       "      <td>0.592906</td>\n",
       "      <td>-1.252912</td>\n",
       "      <td>White</td>\n",
       "      <td>1</td>\n",
       "    </tr>\n",
       "    <tr>\n",
       "      <th>4</th>\n",
       "      <td>2.359088</td>\n",
       "      <td>-0.560355</td>\n",
       "      <td>1.120650</td>\n",
       "      <td>-0.642358</td>\n",
       "      <td>-0.409849</td>\n",
       "      <td>-0.113535</td>\n",
       "      <td>0.892168</td>\n",
       "      <td>1.202139</td>\n",
       "      <td>-0.219132</td>\n",
       "      <td>0.396466</td>\n",
       "      <td>White</td>\n",
       "      <td>1</td>\n",
       "    </tr>\n",
       "  </tbody>\n",
       "</table>\n",
       "</div>"
      ],
      "text/plain": [
       "   fixed acidity  volatile acidity  citric acid  residual sugar  chlorides  \\\n",
       "0      -1.533585          0.096993    -2.054361       -0.778445  -0.721682   \n",
       "1      -0.083374         -0.679873     0.499453        1.965968   0.043726   \n",
       "2      -0.236028          0.336028    -1.019031        1.784519  -0.664985   \n",
       "3      -1.228278         -0.500597    -0.950009       -0.823807  -0.636637   \n",
       "4       2.359088         -0.560355     1.120650       -0.642358  -0.409849   \n",
       "\n",
       "   free sulfur dioxide  total sulfur dioxide   density        pH  sulphates  \\\n",
       "0            -0.343381             -0.174877 -1.700649  1.342479  -1.252912   \n",
       "1            -0.228458              1.034441  1.046633 -2.030601  -0.496947   \n",
       "2             1.667766              1.283418  1.043177 -0.906241  -0.290775   \n",
       "3            -0.688149              0.376429 -0.961129  0.592906  -1.252912   \n",
       "4            -0.113535              0.892168  1.202139 -0.219132   0.396466   \n",
       "\n",
       "    type  type_encode  \n",
       "0  White            1  \n",
       "1  White            1  \n",
       "2  White            1  \n",
       "3  White            1  \n",
       "4  White            1  "
      ]
     },
     "execution_count": 18,
     "metadata": {},
     "output_type": "execute_result"
    }
   ],
   "source": [
    "df_wines_class = pd.concat([df_wines_white,df_wines_red], ignore_index= True)\n",
    "df_wines_class.head()"
   ]
  },
  {
   "cell_type": "code",
   "execution_count": 19,
   "metadata": {},
   "outputs": [],
   "source": [
    "df_wines_class = df_wines_class.sample(frac=1)"
   ]
  },
  {
   "cell_type": "code",
   "execution_count": 20,
   "metadata": {},
   "outputs": [
    {
     "data": {
      "text/html": [
       "<div>\n",
       "<style scoped>\n",
       "    .dataframe tbody tr th:only-of-type {\n",
       "        vertical-align: middle;\n",
       "    }\n",
       "\n",
       "    .dataframe tbody tr th {\n",
       "        vertical-align: top;\n",
       "    }\n",
       "\n",
       "    .dataframe thead th {\n",
       "        text-align: right;\n",
       "    }\n",
       "</style>\n",
       "<table border=\"1\" class=\"dataframe\">\n",
       "  <thead>\n",
       "    <tr style=\"text-align: right;\">\n",
       "      <th></th>\n",
       "      <th>fixed acidity</th>\n",
       "      <th>volatile acidity</th>\n",
       "      <th>citric acid</th>\n",
       "      <th>residual sugar</th>\n",
       "      <th>chlorides</th>\n",
       "      <th>free sulfur dioxide</th>\n",
       "      <th>total sulfur dioxide</th>\n",
       "      <th>density</th>\n",
       "      <th>pH</th>\n",
       "      <th>sulphates</th>\n",
       "      <th>type</th>\n",
       "      <th>type_encode</th>\n",
       "    </tr>\n",
       "  </thead>\n",
       "  <tbody>\n",
       "    <tr>\n",
       "      <th>1846</th>\n",
       "      <td>2.053780</td>\n",
       "      <td>0.933618</td>\n",
       "      <td>-0.535877</td>\n",
       "      <td>-0.619677</td>\n",
       "      <td>1.319405</td>\n",
       "      <td>-1.377685</td>\n",
       "      <td>-1.775446</td>\n",
       "      <td>1.133025</td>\n",
       "      <td>0.717835</td>\n",
       "      <td>-0.084602</td>\n",
       "      <td>Red</td>\n",
       "      <td>0</td>\n",
       "    </tr>\n",
       "    <tr>\n",
       "      <th>463</th>\n",
       "      <td>0.145607</td>\n",
       "      <td>-0.022525</td>\n",
       "      <td>0.706518</td>\n",
       "      <td>-0.891850</td>\n",
       "      <td>-0.664985</td>\n",
       "      <td>-0.745610</td>\n",
       "      <td>1.016657</td>\n",
       "      <td>-0.974952</td>\n",
       "      <td>-0.656383</td>\n",
       "      <td>-0.015878</td>\n",
       "      <td>White</td>\n",
       "      <td>1</td>\n",
       "    </tr>\n",
       "    <tr>\n",
       "      <th>1358</th>\n",
       "      <td>0.450915</td>\n",
       "      <td>1.411689</td>\n",
       "      <td>-2.054361</td>\n",
       "      <td>-0.687720</td>\n",
       "      <td>0.468952</td>\n",
       "      <td>-1.205301</td>\n",
       "      <td>-1.704309</td>\n",
       "      <td>0.787455</td>\n",
       "      <td>0.842764</td>\n",
       "      <td>0.259018</td>\n",
       "      <td>Red</td>\n",
       "      <td>0</td>\n",
       "    </tr>\n",
       "    <tr>\n",
       "      <th>1546</th>\n",
       "      <td>-0.312355</td>\n",
       "      <td>1.590966</td>\n",
       "      <td>-1.916317</td>\n",
       "      <td>-0.801126</td>\n",
       "      <td>0.015377</td>\n",
       "      <td>-1.435146</td>\n",
       "      <td>-1.846582</td>\n",
       "      <td>0.251822</td>\n",
       "      <td>1.217550</td>\n",
       "      <td>0.465190</td>\n",
       "      <td>Red</td>\n",
       "      <td>0</td>\n",
       "    </tr>\n",
       "    <tr>\n",
       "      <th>2038</th>\n",
       "      <td>1.061530</td>\n",
       "      <td>1.232412</td>\n",
       "      <td>-1.571207</td>\n",
       "      <td>-0.392866</td>\n",
       "      <td>0.327210</td>\n",
       "      <td>-1.262762</td>\n",
       "      <td>-1.722093</td>\n",
       "      <td>0.977519</td>\n",
       "      <td>0.030726</td>\n",
       "      <td>-0.634395</td>\n",
       "      <td>Red</td>\n",
       "      <td>0</td>\n",
       "    </tr>\n",
       "  </tbody>\n",
       "</table>\n",
       "</div>"
      ],
      "text/plain": [
       "      fixed acidity  volatile acidity  citric acid  residual sugar  chlorides  \\\n",
       "1846       2.053780          0.933618    -0.535877       -0.619677   1.319405   \n",
       "463        0.145607         -0.022525     0.706518       -0.891850  -0.664985   \n",
       "1358       0.450915          1.411689    -2.054361       -0.687720   0.468952   \n",
       "1546      -0.312355          1.590966    -1.916317       -0.801126   0.015377   \n",
       "2038       1.061530          1.232412    -1.571207       -0.392866   0.327210   \n",
       "\n",
       "      free sulfur dioxide  total sulfur dioxide   density        pH  \\\n",
       "1846            -1.377685             -1.775446  1.133025  0.717835   \n",
       "463             -0.745610              1.016657 -0.974952 -0.656383   \n",
       "1358            -1.205301             -1.704309  0.787455  0.842764   \n",
       "1546            -1.435146             -1.846582  0.251822  1.217550   \n",
       "2038            -1.262762             -1.722093  0.977519  0.030726   \n",
       "\n",
       "      sulphates   type  type_encode  \n",
       "1846  -0.084602    Red            0  \n",
       "463   -0.015878  White            1  \n",
       "1358   0.259018    Red            0  \n",
       "1546   0.465190    Red            0  \n",
       "2038  -0.634395    Red            0  "
      ]
     },
     "execution_count": 20,
     "metadata": {},
     "output_type": "execute_result"
    }
   ],
   "source": [
    "df_wines_class.head()"
   ]
  },
  {
   "cell_type": "code",
   "execution_count": 21,
   "metadata": {},
   "outputs": [],
   "source": [
    "from sklearn.model_selection import train_test_split"
   ]
  },
  {
   "cell_type": "code",
   "execution_count": 22,
   "metadata": {},
   "outputs": [],
   "source": [
    "X = df_wines_class.drop(['type','type_encode'], axis=1)\n",
    "y = df_wines_class['type_encode']"
   ]
  },
  {
   "cell_type": "code",
   "execution_count": 23,
   "metadata": {},
   "outputs": [],
   "source": [
    "x_train, x_test, y_train, y_test = train_test_split(X,y,test_size=0.2, stratify=y)"
   ]
  },
  {
   "cell_type": "code",
   "execution_count": 24,
   "metadata": {},
   "outputs": [],
   "source": [
    "from sklearn.metrics import accuracy_score"
   ]
  },
  {
   "cell_type": "code",
   "execution_count": 25,
   "metadata": {},
   "outputs": [],
   "source": [
    "from sklearn.metrics import confusion_matrix"
   ]
  },
  {
   "cell_type": "code",
   "execution_count": 26,
   "metadata": {},
   "outputs": [],
   "source": [
    "from sklearn.neighbors import KNeighborsClassifier\n",
    "from sklearn.linear_model import LogisticRegression\n",
    "from sklearn.svm import SVC\n",
    "from sklearn.tree import DecisionTreeClassifier\n",
    "from sklearn.ensemble import RandomForestClassifier"
   ]
  },
  {
   "cell_type": "code",
   "execution_count": 27,
   "metadata": {},
   "outputs": [],
   "source": [
    "clf1 = KNeighborsClassifier()\n",
    "clf2 = LogisticRegression()\n",
    "clf3 = SVC()\n",
    "clf4 = DecisionTreeClassifier()\n",
    "clf5 = RandomForestClassifier()"
   ]
  },
  {
   "cell_type": "code",
   "execution_count": 28,
   "metadata": {},
   "outputs": [
    {
     "name": "stdout",
     "output_type": "stream",
     "text": [
      "Metrica:  0.9907578558225508\n"
     ]
    }
   ],
   "source": [
    "clf1.fit(x_train,y_train)\n",
    "y_pred_clf1 = clf1.predict(x_test)\n",
    "print(\"Metrica: \", accuracy_score(y_pred_clf1,y_test))"
   ]
  },
  {
   "cell_type": "code",
   "execution_count": 29,
   "metadata": {},
   "outputs": [
    {
     "data": {
      "text/plain": [
       "array([[268,   3],\n",
       "       [  2, 268]], dtype=int64)"
      ]
     },
     "execution_count": 29,
     "metadata": {},
     "output_type": "execute_result"
    }
   ],
   "source": [
    "confusion_matrix(y_test,y_pred_clf1)"
   ]
  },
  {
   "cell_type": "code",
   "execution_count": 30,
   "metadata": {},
   "outputs": [
    {
     "name": "stdout",
     "output_type": "stream",
     "text": [
      "Metrica:  0.988909426987061\n"
     ]
    }
   ],
   "source": [
    "clf2.fit(x_train,y_train)\n",
    "y_pred_clf2 = clf2.predict(x_test)\n",
    "print(\"Metrica: \", accuracy_score(y_pred_clf2,y_test))"
   ]
  },
  {
   "cell_type": "code",
   "execution_count": 31,
   "metadata": {},
   "outputs": [
    {
     "data": {
      "text/plain": [
       "array([[268,   3],\n",
       "       [  3, 267]], dtype=int64)"
      ]
     },
     "execution_count": 31,
     "metadata": {},
     "output_type": "execute_result"
    }
   ],
   "source": [
    "confusion_matrix(y_test,y_pred_clf2)"
   ]
  },
  {
   "cell_type": "code",
   "execution_count": 32,
   "metadata": {},
   "outputs": [
    {
     "name": "stdout",
     "output_type": "stream",
     "text": [
      "Metrica:  0.9926062846580407\n"
     ]
    }
   ],
   "source": [
    "clf3.fit(x_train,y_train)\n",
    "y_pred_clf3 = clf3.predict(x_test)\n",
    "print(\"Metrica: \", accuracy_score(y_pred_clf3,y_test))"
   ]
  },
  {
   "cell_type": "code",
   "execution_count": 33,
   "metadata": {},
   "outputs": [
    {
     "data": {
      "text/plain": [
       "array([[268,   3],\n",
       "       [  1, 269]], dtype=int64)"
      ]
     },
     "execution_count": 33,
     "metadata": {},
     "output_type": "execute_result"
    }
   ],
   "source": [
    "confusion_matrix(y_test,y_pred_clf3)"
   ]
  },
  {
   "cell_type": "code",
   "execution_count": 34,
   "metadata": {},
   "outputs": [
    {
     "name": "stdout",
     "output_type": "stream",
     "text": [
      "Metrica:  0.977818853974122\n"
     ]
    }
   ],
   "source": [
    "clf4.fit(x_train,y_train)\n",
    "y_pred_clf4 = clf4.predict(x_test)\n",
    "print(\"Metrica: \", accuracy_score(y_pred_clf4,y_test))"
   ]
  },
  {
   "cell_type": "code",
   "execution_count": 35,
   "metadata": {},
   "outputs": [
    {
     "data": {
      "text/plain": [
       "array([[265,   6],\n",
       "       [  6, 264]], dtype=int64)"
      ]
     },
     "execution_count": 35,
     "metadata": {},
     "output_type": "execute_result"
    }
   ],
   "source": [
    "confusion_matrix(y_test,y_pred_clf4)"
   ]
  },
  {
   "cell_type": "code",
   "execution_count": 36,
   "metadata": {},
   "outputs": [
    {
     "name": "stdout",
     "output_type": "stream",
     "text": [
      "Metrica:  0.988909426987061\n"
     ]
    }
   ],
   "source": [
    "clf5.fit(x_train,y_train)\n",
    "y_pred_clf5 = clf5.predict(x_test)\n",
    "print(\"Metrica: \", accuracy_score(y_pred_clf5,y_test))"
   ]
  },
  {
   "cell_type": "code",
   "execution_count": 37,
   "metadata": {},
   "outputs": [
    {
     "data": {
      "text/plain": [
       "array([[266,   5],\n",
       "       [  1, 269]], dtype=int64)"
      ]
     },
     "execution_count": 37,
     "metadata": {},
     "output_type": "execute_result"
    }
   ],
   "source": [
    "confusion_matrix(y_test,y_pred_clf5)"
   ]
  },
  {
   "cell_type": "markdown",
   "metadata": {},
   "source": [
    "## PRUEBA FINAL"
   ]
  },
  {
   "cell_type": "code",
   "execution_count": 38,
   "metadata": {},
   "outputs": [],
   "source": [
    "r_5 = df_wines[df_wines['type'] == 'Red'].sample(5)\n",
    "w_5 = df_wines[df_wines['type'] =='White'].sample(5)"
   ]
  },
  {
   "cell_type": "code",
   "execution_count": 39,
   "metadata": {},
   "outputs": [
    {
     "data": {
      "text/html": [
       "<div>\n",
       "<style scoped>\n",
       "    .dataframe tbody tr th:only-of-type {\n",
       "        vertical-align: middle;\n",
       "    }\n",
       "\n",
       "    .dataframe tbody tr th {\n",
       "        vertical-align: top;\n",
       "    }\n",
       "\n",
       "    .dataframe thead th {\n",
       "        text-align: right;\n",
       "    }\n",
       "</style>\n",
       "<table border=\"1\" class=\"dataframe\">\n",
       "  <thead>\n",
       "    <tr style=\"text-align: right;\">\n",
       "      <th></th>\n",
       "      <th>fixed acidity</th>\n",
       "      <th>volatile acidity</th>\n",
       "      <th>citric acid</th>\n",
       "      <th>residual sugar</th>\n",
       "      <th>chlorides</th>\n",
       "      <th>free sulfur dioxide</th>\n",
       "      <th>total sulfur dioxide</th>\n",
       "      <th>density</th>\n",
       "      <th>pH</th>\n",
       "      <th>sulphates</th>\n",
       "      <th>type</th>\n",
       "      <th>type_encode</th>\n",
       "    </tr>\n",
       "  </thead>\n",
       "  <tbody>\n",
       "    <tr>\n",
       "      <th>4801</th>\n",
       "      <td>0.756223</td>\n",
       "      <td>0.515305</td>\n",
       "      <td>-0.190767</td>\n",
       "      <td>-0.778445</td>\n",
       "      <td>0.695740</td>\n",
       "      <td>-0.170997</td>\n",
       "      <td>-1.224139</td>\n",
       "      <td>0.521366</td>\n",
       "      <td>0.155655</td>\n",
       "      <td>0.052846</td>\n",
       "      <td>Red</td>\n",
       "      <td>0</td>\n",
       "    </tr>\n",
       "    <tr>\n",
       "      <th>5298</th>\n",
       "      <td>-0.770316</td>\n",
       "      <td>1.531207</td>\n",
       "      <td>-1.640229</td>\n",
       "      <td>-0.687720</td>\n",
       "      <td>0.950876</td>\n",
       "      <td>0.116310</td>\n",
       "      <td>-1.241923</td>\n",
       "      <td>0.130872</td>\n",
       "      <td>1.404944</td>\n",
       "      <td>0.327742</td>\n",
       "      <td>Red</td>\n",
       "      <td>0</td>\n",
       "    </tr>\n",
       "    <tr>\n",
       "      <th>4457</th>\n",
       "      <td>-1.686239</td>\n",
       "      <td>0.455546</td>\n",
       "      <td>-0.535877</td>\n",
       "      <td>-0.687720</td>\n",
       "      <td>0.100423</td>\n",
       "      <td>-0.630687</td>\n",
       "      <td>-1.135218</td>\n",
       "      <td>-0.974952</td>\n",
       "      <td>3.091484</td>\n",
       "      <td>1.427327</td>\n",
       "      <td>Red</td>\n",
       "      <td>0</td>\n",
       "    </tr>\n",
       "    <tr>\n",
       "      <th>4704</th>\n",
       "      <td>0.298261</td>\n",
       "      <td>2.218435</td>\n",
       "      <td>-2.192405</td>\n",
       "      <td>-0.665039</td>\n",
       "      <td>0.327210</td>\n",
       "      <td>0.001387</td>\n",
       "      <td>-1.401980</td>\n",
       "      <td>0.279467</td>\n",
       "      <td>1.592337</td>\n",
       "      <td>0.808811</td>\n",
       "      <td>Red</td>\n",
       "      <td>0</td>\n",
       "    </tr>\n",
       "    <tr>\n",
       "      <th>4026</th>\n",
       "      <td>0.450915</td>\n",
       "      <td>0.515305</td>\n",
       "      <td>2.639134</td>\n",
       "      <td>-0.710401</td>\n",
       "      <td>11.553191</td>\n",
       "      <td>-0.458303</td>\n",
       "      <td>-0.832889</td>\n",
       "      <td>0.994797</td>\n",
       "      <td>-0.593919</td>\n",
       "      <td>5.138427</td>\n",
       "      <td>Red</td>\n",
       "      <td>0</td>\n",
       "    </tr>\n",
       "  </tbody>\n",
       "</table>\n",
       "</div>"
      ],
      "text/plain": [
       "      fixed acidity  volatile acidity  citric acid  residual sugar  chlorides  \\\n",
       "4801       0.756223          0.515305    -0.190767       -0.778445   0.695740   \n",
       "5298      -0.770316          1.531207    -1.640229       -0.687720   0.950876   \n",
       "4457      -1.686239          0.455546    -0.535877       -0.687720   0.100423   \n",
       "4704       0.298261          2.218435    -2.192405       -0.665039   0.327210   \n",
       "4026       0.450915          0.515305     2.639134       -0.710401  11.553191   \n",
       "\n",
       "      free sulfur dioxide  total sulfur dioxide   density        pH  \\\n",
       "4801            -0.170997             -1.224139  0.521366  0.155655   \n",
       "5298             0.116310             -1.241923  0.130872  1.404944   \n",
       "4457            -0.630687             -1.135218 -0.974952  3.091484   \n",
       "4704             0.001387             -1.401980  0.279467  1.592337   \n",
       "4026            -0.458303             -0.832889  0.994797 -0.593919   \n",
       "\n",
       "      sulphates type  type_encode  \n",
       "4801   0.052846  Red            0  \n",
       "5298   0.327742  Red            0  \n",
       "4457   1.427327  Red            0  \n",
       "4704   0.808811  Red            0  \n",
       "4026   5.138427  Red            0  "
      ]
     },
     "execution_count": 39,
     "metadata": {},
     "output_type": "execute_result"
    }
   ],
   "source": [
    "r_5"
   ]
  },
  {
   "cell_type": "code",
   "execution_count": 40,
   "metadata": {},
   "outputs": [
    {
     "data": {
      "text/html": [
       "<div>\n",
       "<style scoped>\n",
       "    .dataframe tbody tr th:only-of-type {\n",
       "        vertical-align: middle;\n",
       "    }\n",
       "\n",
       "    .dataframe tbody tr th {\n",
       "        vertical-align: top;\n",
       "    }\n",
       "\n",
       "    .dataframe thead th {\n",
       "        text-align: right;\n",
       "    }\n",
       "</style>\n",
       "<table border=\"1\" class=\"dataframe\">\n",
       "  <thead>\n",
       "    <tr style=\"text-align: right;\">\n",
       "      <th></th>\n",
       "      <th>fixed acidity</th>\n",
       "      <th>volatile acidity</th>\n",
       "      <th>citric acid</th>\n",
       "      <th>residual sugar</th>\n",
       "      <th>chlorides</th>\n",
       "      <th>free sulfur dioxide</th>\n",
       "      <th>total sulfur dioxide</th>\n",
       "      <th>density</th>\n",
       "      <th>pH</th>\n",
       "      <th>sulphates</th>\n",
       "      <th>type</th>\n",
       "      <th>type_encode</th>\n",
       "    </tr>\n",
       "  </thead>\n",
       "  <tbody>\n",
       "    <tr>\n",
       "      <th>0</th>\n",
       "      <td>0.756223</td>\n",
       "      <td>0.515305</td>\n",
       "      <td>-0.190767</td>\n",
       "      <td>-0.778445</td>\n",
       "      <td>0.695740</td>\n",
       "      <td>-0.170997</td>\n",
       "      <td>-1.224139</td>\n",
       "      <td>0.521366</td>\n",
       "      <td>0.155655</td>\n",
       "      <td>0.052846</td>\n",
       "      <td>Red</td>\n",
       "      <td>0</td>\n",
       "    </tr>\n",
       "    <tr>\n",
       "      <th>1</th>\n",
       "      <td>-0.770316</td>\n",
       "      <td>1.531207</td>\n",
       "      <td>-1.640229</td>\n",
       "      <td>-0.687720</td>\n",
       "      <td>0.950876</td>\n",
       "      <td>0.116310</td>\n",
       "      <td>-1.241923</td>\n",
       "      <td>0.130872</td>\n",
       "      <td>1.404944</td>\n",
       "      <td>0.327742</td>\n",
       "      <td>Red</td>\n",
       "      <td>0</td>\n",
       "    </tr>\n",
       "    <tr>\n",
       "      <th>2</th>\n",
       "      <td>-1.686239</td>\n",
       "      <td>0.455546</td>\n",
       "      <td>-0.535877</td>\n",
       "      <td>-0.687720</td>\n",
       "      <td>0.100423</td>\n",
       "      <td>-0.630687</td>\n",
       "      <td>-1.135218</td>\n",
       "      <td>-0.974952</td>\n",
       "      <td>3.091484</td>\n",
       "      <td>1.427327</td>\n",
       "      <td>Red</td>\n",
       "      <td>0</td>\n",
       "    </tr>\n",
       "    <tr>\n",
       "      <th>3</th>\n",
       "      <td>0.298261</td>\n",
       "      <td>2.218435</td>\n",
       "      <td>-2.192405</td>\n",
       "      <td>-0.665039</td>\n",
       "      <td>0.327210</td>\n",
       "      <td>0.001387</td>\n",
       "      <td>-1.401980</td>\n",
       "      <td>0.279467</td>\n",
       "      <td>1.592337</td>\n",
       "      <td>0.808811</td>\n",
       "      <td>Red</td>\n",
       "      <td>0</td>\n",
       "    </tr>\n",
       "    <tr>\n",
       "      <th>4</th>\n",
       "      <td>0.450915</td>\n",
       "      <td>0.515305</td>\n",
       "      <td>2.639134</td>\n",
       "      <td>-0.710401</td>\n",
       "      <td>11.553191</td>\n",
       "      <td>-0.458303</td>\n",
       "      <td>-0.832889</td>\n",
       "      <td>0.994797</td>\n",
       "      <td>-0.593919</td>\n",
       "      <td>5.138427</td>\n",
       "      <td>Red</td>\n",
       "      <td>0</td>\n",
       "    </tr>\n",
       "    <tr>\n",
       "      <th>5</th>\n",
       "      <td>0.069280</td>\n",
       "      <td>-0.679873</td>\n",
       "      <td>-0.535877</td>\n",
       "      <td>-0.937212</td>\n",
       "      <td>-0.721682</td>\n",
       "      <td>-0.056074</td>\n",
       "      <td>-0.494991</td>\n",
       "      <td>-1.818143</td>\n",
       "      <td>-2.030601</td>\n",
       "      <td>-1.046739</td>\n",
       "      <td>White</td>\n",
       "      <td>1</td>\n",
       "    </tr>\n",
       "    <tr>\n",
       "      <th>6</th>\n",
       "      <td>-0.617662</td>\n",
       "      <td>0.037234</td>\n",
       "      <td>-0.259789</td>\n",
       "      <td>-0.778445</td>\n",
       "      <td>-0.551591</td>\n",
       "      <td>0.058849</td>\n",
       "      <td>-0.014821</td>\n",
       "      <td>-2.326130</td>\n",
       "      <td>-0.656383</td>\n",
       "      <td>-0.909291</td>\n",
       "      <td>White</td>\n",
       "      <td>1</td>\n",
       "    </tr>\n",
       "    <tr>\n",
       "      <th>7</th>\n",
       "      <td>0.145607</td>\n",
       "      <td>-0.799391</td>\n",
       "      <td>3.329354</td>\n",
       "      <td>1.648433</td>\n",
       "      <td>-0.523243</td>\n",
       "      <td>2.702070</td>\n",
       "      <td>1.230066</td>\n",
       "      <td>1.126114</td>\n",
       "      <td>-1.718279</td>\n",
       "      <td>-0.359499</td>\n",
       "      <td>White</td>\n",
       "      <td>1</td>\n",
       "    </tr>\n",
       "    <tr>\n",
       "      <th>8</th>\n",
       "      <td>-0.159701</td>\n",
       "      <td>-0.142043</td>\n",
       "      <td>-0.190767</td>\n",
       "      <td>-0.029968</td>\n",
       "      <td>-0.579940</td>\n",
       "      <td>0.633462</td>\n",
       "      <td>0.643191</td>\n",
       "      <td>-0.981863</td>\n",
       "      <td>0.967692</td>\n",
       "      <td>-0.703119</td>\n",
       "      <td>White</td>\n",
       "      <td>1</td>\n",
       "    </tr>\n",
       "    <tr>\n",
       "      <th>9</th>\n",
       "      <td>-0.388681</td>\n",
       "      <td>-0.620114</td>\n",
       "      <td>0.223365</td>\n",
       "      <td>1.829881</td>\n",
       "      <td>-0.183062</td>\n",
       "      <td>1.955073</td>\n",
       "      <td>1.621316</td>\n",
       "      <td>0.856569</td>\n",
       "      <td>-0.468990</td>\n",
       "      <td>-0.222051</td>\n",
       "      <td>White</td>\n",
       "      <td>1</td>\n",
       "    </tr>\n",
       "  </tbody>\n",
       "</table>\n",
       "</div>"
      ],
      "text/plain": [
       "   fixed acidity  volatile acidity  citric acid  residual sugar  chlorides  \\\n",
       "0       0.756223          0.515305    -0.190767       -0.778445   0.695740   \n",
       "1      -0.770316          1.531207    -1.640229       -0.687720   0.950876   \n",
       "2      -1.686239          0.455546    -0.535877       -0.687720   0.100423   \n",
       "3       0.298261          2.218435    -2.192405       -0.665039   0.327210   \n",
       "4       0.450915          0.515305     2.639134       -0.710401  11.553191   \n",
       "5       0.069280         -0.679873    -0.535877       -0.937212  -0.721682   \n",
       "6      -0.617662          0.037234    -0.259789       -0.778445  -0.551591   \n",
       "7       0.145607         -0.799391     3.329354        1.648433  -0.523243   \n",
       "8      -0.159701         -0.142043    -0.190767       -0.029968  -0.579940   \n",
       "9      -0.388681         -0.620114     0.223365        1.829881  -0.183062   \n",
       "\n",
       "   free sulfur dioxide  total sulfur dioxide   density        pH  sulphates  \\\n",
       "0            -0.170997             -1.224139  0.521366  0.155655   0.052846   \n",
       "1             0.116310             -1.241923  0.130872  1.404944   0.327742   \n",
       "2            -0.630687             -1.135218 -0.974952  3.091484   1.427327   \n",
       "3             0.001387             -1.401980  0.279467  1.592337   0.808811   \n",
       "4            -0.458303             -0.832889  0.994797 -0.593919   5.138427   \n",
       "5            -0.056074             -0.494991 -1.818143 -2.030601  -1.046739   \n",
       "6             0.058849             -0.014821 -2.326130 -0.656383  -0.909291   \n",
       "7             2.702070              1.230066  1.126114 -1.718279  -0.359499   \n",
       "8             0.633462              0.643191 -0.981863  0.967692  -0.703119   \n",
       "9             1.955073              1.621316  0.856569 -0.468990  -0.222051   \n",
       "\n",
       "    type  type_encode  \n",
       "0    Red            0  \n",
       "1    Red            0  \n",
       "2    Red            0  \n",
       "3    Red            0  \n",
       "4    Red            0  \n",
       "5  White            1  \n",
       "6  White            1  \n",
       "7  White            1  \n",
       "8  White            1  \n",
       "9  White            1  "
      ]
     },
     "execution_count": 40,
     "metadata": {},
     "output_type": "execute_result"
    }
   ],
   "source": [
    "rw_10 = pd.concat([r_5,w_5],ignore_index=True)\n",
    "rw_10"
   ]
  },
  {
   "cell_type": "code",
   "execution_count": 41,
   "metadata": {},
   "outputs": [],
   "source": [
    "rw_10 = rw_10.sample(frac=1)"
   ]
  },
  {
   "cell_type": "code",
   "execution_count": 42,
   "metadata": {},
   "outputs": [
    {
     "data": {
      "text/html": [
       "<div>\n",
       "<style scoped>\n",
       "    .dataframe tbody tr th:only-of-type {\n",
       "        vertical-align: middle;\n",
       "    }\n",
       "\n",
       "    .dataframe tbody tr th {\n",
       "        vertical-align: top;\n",
       "    }\n",
       "\n",
       "    .dataframe thead th {\n",
       "        text-align: right;\n",
       "    }\n",
       "</style>\n",
       "<table border=\"1\" class=\"dataframe\">\n",
       "  <thead>\n",
       "    <tr style=\"text-align: right;\">\n",
       "      <th></th>\n",
       "      <th>fixed acidity</th>\n",
       "      <th>volatile acidity</th>\n",
       "      <th>citric acid</th>\n",
       "      <th>residual sugar</th>\n",
       "      <th>chlorides</th>\n",
       "      <th>free sulfur dioxide</th>\n",
       "      <th>total sulfur dioxide</th>\n",
       "      <th>density</th>\n",
       "      <th>pH</th>\n",
       "      <th>sulphates</th>\n",
       "      <th>type</th>\n",
       "      <th>type_encode</th>\n",
       "    </tr>\n",
       "  </thead>\n",
       "  <tbody>\n",
       "    <tr>\n",
       "      <th>8</th>\n",
       "      <td>-0.159701</td>\n",
       "      <td>-0.142043</td>\n",
       "      <td>-0.190767</td>\n",
       "      <td>-0.029968</td>\n",
       "      <td>-0.579940</td>\n",
       "      <td>0.633462</td>\n",
       "      <td>0.643191</td>\n",
       "      <td>-0.981863</td>\n",
       "      <td>0.967692</td>\n",
       "      <td>-0.703119</td>\n",
       "      <td>White</td>\n",
       "      <td>1</td>\n",
       "    </tr>\n",
       "    <tr>\n",
       "      <th>7</th>\n",
       "      <td>0.145607</td>\n",
       "      <td>-0.799391</td>\n",
       "      <td>3.329354</td>\n",
       "      <td>1.648433</td>\n",
       "      <td>-0.523243</td>\n",
       "      <td>2.702070</td>\n",
       "      <td>1.230066</td>\n",
       "      <td>1.126114</td>\n",
       "      <td>-1.718279</td>\n",
       "      <td>-0.359499</td>\n",
       "      <td>White</td>\n",
       "      <td>1</td>\n",
       "    </tr>\n",
       "    <tr>\n",
       "      <th>1</th>\n",
       "      <td>-0.770316</td>\n",
       "      <td>1.531207</td>\n",
       "      <td>-1.640229</td>\n",
       "      <td>-0.687720</td>\n",
       "      <td>0.950876</td>\n",
       "      <td>0.116310</td>\n",
       "      <td>-1.241923</td>\n",
       "      <td>0.130872</td>\n",
       "      <td>1.404944</td>\n",
       "      <td>0.327742</td>\n",
       "      <td>Red</td>\n",
       "      <td>0</td>\n",
       "    </tr>\n",
       "    <tr>\n",
       "      <th>6</th>\n",
       "      <td>-0.617662</td>\n",
       "      <td>0.037234</td>\n",
       "      <td>-0.259789</td>\n",
       "      <td>-0.778445</td>\n",
       "      <td>-0.551591</td>\n",
       "      <td>0.058849</td>\n",
       "      <td>-0.014821</td>\n",
       "      <td>-2.326130</td>\n",
       "      <td>-0.656383</td>\n",
       "      <td>-0.909291</td>\n",
       "      <td>White</td>\n",
       "      <td>1</td>\n",
       "    </tr>\n",
       "    <tr>\n",
       "      <th>5</th>\n",
       "      <td>0.069280</td>\n",
       "      <td>-0.679873</td>\n",
       "      <td>-0.535877</td>\n",
       "      <td>-0.937212</td>\n",
       "      <td>-0.721682</td>\n",
       "      <td>-0.056074</td>\n",
       "      <td>-0.494991</td>\n",
       "      <td>-1.818143</td>\n",
       "      <td>-2.030601</td>\n",
       "      <td>-1.046739</td>\n",
       "      <td>White</td>\n",
       "      <td>1</td>\n",
       "    </tr>\n",
       "    <tr>\n",
       "      <th>0</th>\n",
       "      <td>0.756223</td>\n",
       "      <td>0.515305</td>\n",
       "      <td>-0.190767</td>\n",
       "      <td>-0.778445</td>\n",
       "      <td>0.695740</td>\n",
       "      <td>-0.170997</td>\n",
       "      <td>-1.224139</td>\n",
       "      <td>0.521366</td>\n",
       "      <td>0.155655</td>\n",
       "      <td>0.052846</td>\n",
       "      <td>Red</td>\n",
       "      <td>0</td>\n",
       "    </tr>\n",
       "    <tr>\n",
       "      <th>2</th>\n",
       "      <td>-1.686239</td>\n",
       "      <td>0.455546</td>\n",
       "      <td>-0.535877</td>\n",
       "      <td>-0.687720</td>\n",
       "      <td>0.100423</td>\n",
       "      <td>-0.630687</td>\n",
       "      <td>-1.135218</td>\n",
       "      <td>-0.974952</td>\n",
       "      <td>3.091484</td>\n",
       "      <td>1.427327</td>\n",
       "      <td>Red</td>\n",
       "      <td>0</td>\n",
       "    </tr>\n",
       "    <tr>\n",
       "      <th>3</th>\n",
       "      <td>0.298261</td>\n",
       "      <td>2.218435</td>\n",
       "      <td>-2.192405</td>\n",
       "      <td>-0.665039</td>\n",
       "      <td>0.327210</td>\n",
       "      <td>0.001387</td>\n",
       "      <td>-1.401980</td>\n",
       "      <td>0.279467</td>\n",
       "      <td>1.592337</td>\n",
       "      <td>0.808811</td>\n",
       "      <td>Red</td>\n",
       "      <td>0</td>\n",
       "    </tr>\n",
       "    <tr>\n",
       "      <th>4</th>\n",
       "      <td>0.450915</td>\n",
       "      <td>0.515305</td>\n",
       "      <td>2.639134</td>\n",
       "      <td>-0.710401</td>\n",
       "      <td>11.553191</td>\n",
       "      <td>-0.458303</td>\n",
       "      <td>-0.832889</td>\n",
       "      <td>0.994797</td>\n",
       "      <td>-0.593919</td>\n",
       "      <td>5.138427</td>\n",
       "      <td>Red</td>\n",
       "      <td>0</td>\n",
       "    </tr>\n",
       "    <tr>\n",
       "      <th>9</th>\n",
       "      <td>-0.388681</td>\n",
       "      <td>-0.620114</td>\n",
       "      <td>0.223365</td>\n",
       "      <td>1.829881</td>\n",
       "      <td>-0.183062</td>\n",
       "      <td>1.955073</td>\n",
       "      <td>1.621316</td>\n",
       "      <td>0.856569</td>\n",
       "      <td>-0.468990</td>\n",
       "      <td>-0.222051</td>\n",
       "      <td>White</td>\n",
       "      <td>1</td>\n",
       "    </tr>\n",
       "  </tbody>\n",
       "</table>\n",
       "</div>"
      ],
      "text/plain": [
       "   fixed acidity  volatile acidity  citric acid  residual sugar  chlorides  \\\n",
       "8      -0.159701         -0.142043    -0.190767       -0.029968  -0.579940   \n",
       "7       0.145607         -0.799391     3.329354        1.648433  -0.523243   \n",
       "1      -0.770316          1.531207    -1.640229       -0.687720   0.950876   \n",
       "6      -0.617662          0.037234    -0.259789       -0.778445  -0.551591   \n",
       "5       0.069280         -0.679873    -0.535877       -0.937212  -0.721682   \n",
       "0       0.756223          0.515305    -0.190767       -0.778445   0.695740   \n",
       "2      -1.686239          0.455546    -0.535877       -0.687720   0.100423   \n",
       "3       0.298261          2.218435    -2.192405       -0.665039   0.327210   \n",
       "4       0.450915          0.515305     2.639134       -0.710401  11.553191   \n",
       "9      -0.388681         -0.620114     0.223365        1.829881  -0.183062   \n",
       "\n",
       "   free sulfur dioxide  total sulfur dioxide   density        pH  sulphates  \\\n",
       "8             0.633462              0.643191 -0.981863  0.967692  -0.703119   \n",
       "7             2.702070              1.230066  1.126114 -1.718279  -0.359499   \n",
       "1             0.116310             -1.241923  0.130872  1.404944   0.327742   \n",
       "6             0.058849             -0.014821 -2.326130 -0.656383  -0.909291   \n",
       "5            -0.056074             -0.494991 -1.818143 -2.030601  -1.046739   \n",
       "0            -0.170997             -1.224139  0.521366  0.155655   0.052846   \n",
       "2            -0.630687             -1.135218 -0.974952  3.091484   1.427327   \n",
       "3             0.001387             -1.401980  0.279467  1.592337   0.808811   \n",
       "4            -0.458303             -0.832889  0.994797 -0.593919   5.138427   \n",
       "9             1.955073              1.621316  0.856569 -0.468990  -0.222051   \n",
       "\n",
       "    type  type_encode  \n",
       "8  White            1  \n",
       "7  White            1  \n",
       "1    Red            0  \n",
       "6  White            1  \n",
       "5  White            1  \n",
       "0    Red            0  \n",
       "2    Red            0  \n",
       "3    Red            0  \n",
       "4    Red            0  \n",
       "9  White            1  "
      ]
     },
     "execution_count": 42,
     "metadata": {},
     "output_type": "execute_result"
    }
   ],
   "source": [
    "rw_10"
   ]
  },
  {
   "cell_type": "code",
   "execution_count": 43,
   "metadata": {},
   "outputs": [],
   "source": [
    "rw_10_x = rw_10.drop(['type', 'type_encode'],axis=1)\n",
    "rw_10_Y = rw_10['type_encode']"
   ]
  },
  {
   "cell_type": "code",
   "execution_count": 44,
   "metadata": {},
   "outputs": [
    {
     "data": {
      "text/plain": [
       "8    1\n",
       "7    1\n",
       "1    0\n",
       "6    1\n",
       "5    1\n",
       "0    0\n",
       "2    0\n",
       "3    0\n",
       "4    0\n",
       "9    1\n",
       "Name: type_encode, dtype: int32"
      ]
     },
     "execution_count": 44,
     "metadata": {},
     "output_type": "execute_result"
    }
   ],
   "source": [
    "rw_10_Y"
   ]
  },
  {
   "cell_type": "code",
   "execution_count": 45,
   "metadata": {},
   "outputs": [],
   "source": [
    "y_pred_rw10 = clf3.predict(rw_10_x)"
   ]
  },
  {
   "cell_type": "code",
   "execution_count": 46,
   "metadata": {},
   "outputs": [],
   "source": [
    "y_prueba = pd.Series(y_pred_rw10)"
   ]
  },
  {
   "cell_type": "code",
   "execution_count": 47,
   "metadata": {},
   "outputs": [
    {
     "data": {
      "text/plain": [
       "1.0"
      ]
     },
     "execution_count": 47,
     "metadata": {},
     "output_type": "execute_result"
    }
   ],
   "source": [
    "accuracy_score(rw_10_Y,y_prueba)"
   ]
  },
  {
   "cell_type": "code",
   "execution_count": 48,
   "metadata": {},
   "outputs": [],
   "source": [
    "y_pred_rw10 = clf2.predict(rw_10_x)"
   ]
  },
  {
   "cell_type": "code",
   "execution_count": 49,
   "metadata": {},
   "outputs": [
    {
     "data": {
      "text/plain": [
       "1.0"
      ]
     },
     "execution_count": 49,
     "metadata": {},
     "output_type": "execute_result"
    }
   ],
   "source": [
    "y_prueba = pd.Series(y_pred_rw10)\n",
    "accuracy_score(rw_10_Y,y_prueba)"
   ]
  },
  {
   "cell_type": "code",
   "execution_count": 50,
   "metadata": {},
   "outputs": [
    {
     "data": {
      "text/plain": [
       "1.0"
      ]
     },
     "execution_count": 50,
     "metadata": {},
     "output_type": "execute_result"
    }
   ],
   "source": [
    "y_pred_rw10 = clf1.predict(rw_10_x)\n",
    "y_prueba = pd.Series(y_pred_rw10)\n",
    "accuracy_score(rw_10_Y,y_prueba)"
   ]
  },
  {
   "cell_type": "code",
   "execution_count": 51,
   "metadata": {},
   "outputs": [
    {
     "data": {
      "text/plain": [
       "1.0"
      ]
     },
     "execution_count": 51,
     "metadata": {},
     "output_type": "execute_result"
    }
   ],
   "source": [
    "y_pred_rw10 = clf4.predict(rw_10_x)\n",
    "y_prueba = pd.Series(y_pred_rw10)\n",
    "accuracy_score(rw_10_Y,y_prueba)"
   ]
  },
  {
   "cell_type": "code",
   "execution_count": 52,
   "metadata": {},
   "outputs": [
    {
     "data": {
      "text/plain": [
       "1.0"
      ]
     },
     "execution_count": 52,
     "metadata": {},
     "output_type": "execute_result"
    }
   ],
   "source": [
    "y_pred_rw10 = clf5.predict(rw_10_x)\n",
    "y_prueba = pd.Series(y_pred_rw10)\n",
    "accuracy_score(rw_10_Y,y_prueba)"
   ]
  },
  {
   "cell_type": "markdown",
   "metadata": {},
   "source": [
    "#### Conclusion"
   ]
  },
  {
   "cell_type": "markdown",
   "metadata": {},
   "source": [
    "Se probaron diferentes algoritmos de clasificacion para encontrar el tipo de vino segun sus caracteristicas. En orden de mejor a menor encontramos:"
   ]
  },
  {
   "cell_type": "markdown",
   "metadata": {},
   "source": [
    "* SVM\n",
    "* Logistic Regression\n",
    "* KNN\n",
    "* Random Forest \n",
    "* Decision Tree"
   ]
  },
  {
   "cell_type": "markdown",
   "metadata": {},
   "source": [
    "De igual forma en la prueba con nuevos datos aleatorios, todos clasificaron bien."
   ]
  },
  {
   "cell_type": "markdown",
   "metadata": {},
   "source": [
    "#### Recuerdan los dos pares de datos que tenian los mismos datos pero uno para vino rojo y otro para vino blanco. Veamos como clasifican nuestros algoritmos cada uno"
   ]
  },
  {
   "cell_type": "code",
   "execution_count": 57,
   "metadata": {},
   "outputs": [],
   "source": [
    "datos1 = [6.7,0.28,0.28,2.4,0.012,36.0,100.0,0.99064,3.26,0.39]\n",
    "datos2 = [5.9,0.19,0.21,1.7,0.045,57.0,135.0,0.99341,3.32,0.44]"
   ]
  },
  {
   "cell_type": "code",
   "execution_count": 59,
   "metadata": {},
   "outputs": [],
   "source": [
    "datos_duplicados = pd.DataFrame([datos1,datos2], columns=['fixed acidity', 'volatile acidity', 'citric acid', 'residual sugar','chlorides', 'free sulfur dioxide', 'total sulfur dioxide', 'density','pH', 'sulphates'])"
   ]
  },
  {
   "cell_type": "code",
   "execution_count": 60,
   "metadata": {},
   "outputs": [
    {
     "data": {
      "text/html": [
       "<div>\n",
       "<style scoped>\n",
       "    .dataframe tbody tr th:only-of-type {\n",
       "        vertical-align: middle;\n",
       "    }\n",
       "\n",
       "    .dataframe tbody tr th {\n",
       "        vertical-align: top;\n",
       "    }\n",
       "\n",
       "    .dataframe thead th {\n",
       "        text-align: right;\n",
       "    }\n",
       "</style>\n",
       "<table border=\"1\" class=\"dataframe\">\n",
       "  <thead>\n",
       "    <tr style=\"text-align: right;\">\n",
       "      <th></th>\n",
       "      <th>fixed acidity</th>\n",
       "      <th>volatile acidity</th>\n",
       "      <th>citric acid</th>\n",
       "      <th>residual sugar</th>\n",
       "      <th>chlorides</th>\n",
       "      <th>free sulfur dioxide</th>\n",
       "      <th>total sulfur dioxide</th>\n",
       "      <th>density</th>\n",
       "      <th>pH</th>\n",
       "      <th>sulphates</th>\n",
       "    </tr>\n",
       "  </thead>\n",
       "  <tbody>\n",
       "    <tr>\n",
       "      <th>0</th>\n",
       "      <td>6.7</td>\n",
       "      <td>0.28</td>\n",
       "      <td>0.28</td>\n",
       "      <td>2.4</td>\n",
       "      <td>0.012</td>\n",
       "      <td>36.0</td>\n",
       "      <td>100.0</td>\n",
       "      <td>0.99064</td>\n",
       "      <td>3.26</td>\n",
       "      <td>0.39</td>\n",
       "    </tr>\n",
       "    <tr>\n",
       "      <th>1</th>\n",
       "      <td>5.9</td>\n",
       "      <td>0.19</td>\n",
       "      <td>0.21</td>\n",
       "      <td>1.7</td>\n",
       "      <td>0.045</td>\n",
       "      <td>57.0</td>\n",
       "      <td>135.0</td>\n",
       "      <td>0.99341</td>\n",
       "      <td>3.32</td>\n",
       "      <td>0.44</td>\n",
       "    </tr>\n",
       "  </tbody>\n",
       "</table>\n",
       "</div>"
      ],
      "text/plain": [
       "   fixed acidity  volatile acidity  citric acid  residual sugar  chlorides  \\\n",
       "0            6.7              0.28         0.28             2.4      0.012   \n",
       "1            5.9              0.19         0.21             1.7      0.045   \n",
       "\n",
       "   free sulfur dioxide  total sulfur dioxide  density    pH  sulphates  \n",
       "0                 36.0                 100.0  0.99064  3.26       0.39  \n",
       "1                 57.0                 135.0  0.99341  3.32       0.44  "
      ]
     },
     "execution_count": 60,
     "metadata": {},
     "output_type": "execute_result"
    }
   ],
   "source": [
    "datos_duplicados"
   ]
  },
  {
   "cell_type": "markdown",
   "metadata": {},
   "source": [
    "### Escalamos los datos"
   ]
  },
  {
   "cell_type": "code",
   "execution_count": 61,
   "metadata": {},
   "outputs": [],
   "source": [
    "datosDupli_scaler = scaler.fit_transform(datos_duplicados)\n"
   ]
  },
  {
   "cell_type": "code",
   "execution_count": 64,
   "metadata": {},
   "outputs": [
    {
     "data": {
      "text/plain": [
       "array([1, 1])"
      ]
     },
     "execution_count": 64,
     "metadata": {},
     "output_type": "execute_result"
    }
   ],
   "source": [
    "y_pred = clf1.predict(datosDupli_scaler)\n",
    "y_pred"
   ]
  },
  {
   "cell_type": "code",
   "execution_count": 65,
   "metadata": {},
   "outputs": [
    {
     "data": {
      "text/plain": [
       "array([1, 1])"
      ]
     },
     "execution_count": 65,
     "metadata": {},
     "output_type": "execute_result"
    }
   ],
   "source": [
    "y_pred = clf2.predict(datosDupli_scaler)\n",
    "y_pred"
   ]
  },
  {
   "cell_type": "code",
   "execution_count": 66,
   "metadata": {},
   "outputs": [
    {
     "data": {
      "text/plain": [
       "array([1, 1])"
      ]
     },
     "execution_count": 66,
     "metadata": {},
     "output_type": "execute_result"
    }
   ],
   "source": [
    "y_pred = clf3.predict(datosDupli_scaler)\n",
    "y_pred"
   ]
  },
  {
   "cell_type": "code",
   "execution_count": 67,
   "metadata": {},
   "outputs": [
    {
     "data": {
      "text/plain": [
       "array([1, 1])"
      ]
     },
     "execution_count": 67,
     "metadata": {},
     "output_type": "execute_result"
    }
   ],
   "source": [
    "y_pred = clf4.predict(datosDupli_scaler)\n",
    "y_pred"
   ]
  },
  {
   "cell_type": "code",
   "execution_count": 68,
   "metadata": {},
   "outputs": [
    {
     "data": {
      "text/plain": [
       "array([1, 1])"
      ]
     },
     "execution_count": 68,
     "metadata": {},
     "output_type": "execute_result"
    }
   ],
   "source": [
    "y_pred = clf5.predict(datosDupli_scaler)\n",
    "y_pred"
   ]
  },
  {
   "cell_type": "markdown",
   "metadata": {},
   "source": [
    "## Finalmente, vemos que todos los algoritmos clasifican de Vino blanco los datos que sabemos tambien pueden ser vino Rojo."
   ]
  }
 ],
 "metadata": {
  "interpreter": {
   "hash": "46327b6bb16798f80635706720d32319bb9fd65aa2f1c2afb04f8d6b7da62462"
  },
  "kernelspec": {
   "display_name": "Python 3.7.6 64-bit",
   "language": "python",
   "name": "python3"
  },
  "language_info": {
   "codemirror_mode": {
    "name": "ipython",
    "version": 3
   },
   "file_extension": ".py",
   "mimetype": "text/x-python",
   "name": "python",
   "nbconvert_exporter": "python",
   "pygments_lexer": "ipython3",
   "version": "3.7.6"
  },
  "orig_nbformat": 4
 },
 "nbformat": 4,
 "nbformat_minor": 2
}
