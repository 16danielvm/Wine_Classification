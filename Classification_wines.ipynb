{
 "cells": [
  {
   "cell_type": "markdown",
   "metadata": {},
   "source": [
    "# Classification wine"
   ]
  },
  {
   "cell_type": "code",
   "execution_count": 2,
   "metadata": {},
   "outputs": [],
   "source": [
    "import pandas as pd\n",
    "import numpy as np"
   ]
  },
  {
   "cell_type": "code",
   "execution_count": 3,
   "metadata": {},
   "outputs": [],
   "source": [
    "pd.set_option('max_columns', None)"
   ]
  },
  {
   "cell_type": "code",
   "execution_count": 9,
   "metadata": {},
   "outputs": [
    {
     "data": {
      "text/html": [
       "<div>\n",
       "<style scoped>\n",
       "    .dataframe tbody tr th:only-of-type {\n",
       "        vertical-align: middle;\n",
       "    }\n",
       "\n",
       "    .dataframe tbody tr th {\n",
       "        vertical-align: top;\n",
       "    }\n",
       "\n",
       "    .dataframe thead th {\n",
       "        text-align: right;\n",
       "    }\n",
       "</style>\n",
       "<table border=\"1\" class=\"dataframe\">\n",
       "  <thead>\n",
       "    <tr style=\"text-align: right;\">\n",
       "      <th></th>\n",
       "      <th>fixed acidity</th>\n",
       "      <th>volatile acidity</th>\n",
       "      <th>citric acid</th>\n",
       "      <th>residual sugar</th>\n",
       "      <th>chlorides</th>\n",
       "      <th>free sulfur dioxide</th>\n",
       "      <th>total sulfur dioxide</th>\n",
       "      <th>density</th>\n",
       "      <th>pH</th>\n",
       "      <th>sulphates</th>\n",
       "      <th>type</th>\n",
       "    </tr>\n",
       "  </thead>\n",
       "  <tbody>\n",
       "    <tr>\n",
       "      <th>0</th>\n",
       "      <td>7.0</td>\n",
       "      <td>0.27</td>\n",
       "      <td>0.36</td>\n",
       "      <td>20.7</td>\n",
       "      <td>0.045</td>\n",
       "      <td>45.0</td>\n",
       "      <td>170.0</td>\n",
       "      <td>1.0010</td>\n",
       "      <td>3.00</td>\n",
       "      <td>0.45</td>\n",
       "      <td>White</td>\n",
       "    </tr>\n",
       "    <tr>\n",
       "      <th>1</th>\n",
       "      <td>6.3</td>\n",
       "      <td>0.30</td>\n",
       "      <td>0.34</td>\n",
       "      <td>1.6</td>\n",
       "      <td>0.049</td>\n",
       "      <td>14.0</td>\n",
       "      <td>132.0</td>\n",
       "      <td>0.9940</td>\n",
       "      <td>3.30</td>\n",
       "      <td>0.49</td>\n",
       "      <td>White</td>\n",
       "    </tr>\n",
       "    <tr>\n",
       "      <th>2</th>\n",
       "      <td>8.1</td>\n",
       "      <td>0.28</td>\n",
       "      <td>0.40</td>\n",
       "      <td>6.9</td>\n",
       "      <td>0.050</td>\n",
       "      <td>30.0</td>\n",
       "      <td>97.0</td>\n",
       "      <td>0.9951</td>\n",
       "      <td>3.26</td>\n",
       "      <td>0.44</td>\n",
       "      <td>White</td>\n",
       "    </tr>\n",
       "    <tr>\n",
       "      <th>3</th>\n",
       "      <td>7.2</td>\n",
       "      <td>0.23</td>\n",
       "      <td>0.32</td>\n",
       "      <td>8.5</td>\n",
       "      <td>0.058</td>\n",
       "      <td>47.0</td>\n",
       "      <td>186.0</td>\n",
       "      <td>0.9956</td>\n",
       "      <td>3.19</td>\n",
       "      <td>0.40</td>\n",
       "      <td>White</td>\n",
       "    </tr>\n",
       "    <tr>\n",
       "      <th>4</th>\n",
       "      <td>6.2</td>\n",
       "      <td>0.32</td>\n",
       "      <td>0.16</td>\n",
       "      <td>7.0</td>\n",
       "      <td>0.045</td>\n",
       "      <td>30.0</td>\n",
       "      <td>136.0</td>\n",
       "      <td>0.9949</td>\n",
       "      <td>3.18</td>\n",
       "      <td>0.47</td>\n",
       "      <td>White</td>\n",
       "    </tr>\n",
       "  </tbody>\n",
       "</table>\n",
       "</div>"
      ],
      "text/plain": [
       "   fixed acidity  volatile acidity  citric acid  residual sugar  chlorides  \\\n",
       "0            7.0              0.27         0.36            20.7      0.045   \n",
       "1            6.3              0.30         0.34             1.6      0.049   \n",
       "2            8.1              0.28         0.40             6.9      0.050   \n",
       "3            7.2              0.23         0.32             8.5      0.058   \n",
       "4            6.2              0.32         0.16             7.0      0.045   \n",
       "\n",
       "   free sulfur dioxide  total sulfur dioxide  density    pH  sulphates   type  \n",
       "0                 45.0                 170.0   1.0010  3.00       0.45  White  \n",
       "1                 14.0                 132.0   0.9940  3.30       0.49  White  \n",
       "2                 30.0                  97.0   0.9951  3.26       0.44  White  \n",
       "3                 47.0                 186.0   0.9956  3.19       0.40  White  \n",
       "4                 30.0                 136.0   0.9949  3.18       0.47  White  "
      ]
     },
     "execution_count": 9,
     "metadata": {},
     "output_type": "execute_result"
    }
   ],
   "source": [
    "df_wines = pd.read_csv('df_wines_toClassification.csv', usecols=['fixed acidity', 'volatile acidity', 'citric acid', 'residual sugar','chlorides', 'free sulfur dioxide', 'total sulfur dioxide', 'density',\n",
    "       'pH', 'sulphates', 'type'])\n",
    "df_wines.head()"
   ]
  },
  {
   "cell_type": "markdown",
   "metadata": {},
   "source": [
    "Segun la conclusion del analisis de los datos, para la clasificacion del vino segun su tipo, excluimos el alcohol y quality."
   ]
  },
  {
   "cell_type": "code",
   "execution_count": 10,
   "metadata": {},
   "outputs": [
    {
     "name": "stdout",
     "output_type": "stream",
     "text": [
      "<class 'pandas.core.frame.DataFrame'>\n",
      "RangeIndex: 5302 entries, 0 to 5301\n",
      "Data columns (total 11 columns):\n",
      " #   Column                Non-Null Count  Dtype  \n",
      "---  ------                --------------  -----  \n",
      " 0   fixed acidity         5302 non-null   float64\n",
      " 1   volatile acidity      5302 non-null   float64\n",
      " 2   citric acid           5302 non-null   float64\n",
      " 3   residual sugar        5302 non-null   float64\n",
      " 4   chlorides             5302 non-null   float64\n",
      " 5   free sulfur dioxide   5302 non-null   float64\n",
      " 6   total sulfur dioxide  5302 non-null   float64\n",
      " 7   density               5302 non-null   float64\n",
      " 8   pH                    5302 non-null   float64\n",
      " 9   sulphates             5302 non-null   float64\n",
      " 10  type                  5302 non-null   object \n",
      "dtypes: float64(10), object(1)\n",
      "memory usage: 455.8+ KB\n"
     ]
    }
   ],
   "source": [
    "df_wines.info()"
   ]
  },
  {
   "cell_type": "markdown",
   "metadata": {},
   "source": [
    "#### Cambiaremos los valores de type, 0-> Red, 1 -> White"
   ]
  },
  {
   "cell_type": "code",
   "execution_count": 11,
   "metadata": {},
   "outputs": [],
   "source": [
    "from sklearn.preprocessing import LabelEncoder"
   ]
  },
  {
   "cell_type": "code",
   "execution_count": 12,
   "metadata": {},
   "outputs": [],
   "source": [
    "le = LabelEncoder()\n",
    "df_wines['type_encode'] = le.fit_transform(df_wines['type'])"
   ]
  },
  {
   "cell_type": "code",
   "execution_count": 16,
   "metadata": {},
   "outputs": [
    {
     "data": {
      "text/html": [
       "<div>\n",
       "<style scoped>\n",
       "    .dataframe tbody tr th:only-of-type {\n",
       "        vertical-align: middle;\n",
       "    }\n",
       "\n",
       "    .dataframe tbody tr th {\n",
       "        vertical-align: top;\n",
       "    }\n",
       "\n",
       "    .dataframe thead th {\n",
       "        text-align: right;\n",
       "    }\n",
       "</style>\n",
       "<table border=\"1\" class=\"dataframe\">\n",
       "  <thead>\n",
       "    <tr style=\"text-align: right;\">\n",
       "      <th></th>\n",
       "      <th>type_encode</th>\n",
       "      <th>type</th>\n",
       "    </tr>\n",
       "  </thead>\n",
       "  <tbody>\n",
       "    <tr>\n",
       "      <th>0</th>\n",
       "      <td>1</td>\n",
       "      <td>White</td>\n",
       "    </tr>\n",
       "    <tr>\n",
       "      <th>1</th>\n",
       "      <td>1</td>\n",
       "      <td>White</td>\n",
       "    </tr>\n",
       "  </tbody>\n",
       "</table>\n",
       "</div>"
      ],
      "text/plain": [
       "   type_encode   type\n",
       "0            1  White\n",
       "1            1  White"
      ]
     },
     "execution_count": 16,
     "metadata": {},
     "output_type": "execute_result"
    }
   ],
   "source": [
    "df_wines[['type_encode','type']].head(2)"
   ]
  },
  {
   "cell_type": "code",
   "execution_count": 15,
   "metadata": {},
   "outputs": [
    {
     "data": {
      "text/html": [
       "<div>\n",
       "<style scoped>\n",
       "    .dataframe tbody tr th:only-of-type {\n",
       "        vertical-align: middle;\n",
       "    }\n",
       "\n",
       "    .dataframe tbody tr th {\n",
       "        vertical-align: top;\n",
       "    }\n",
       "\n",
       "    .dataframe thead th {\n",
       "        text-align: right;\n",
       "    }\n",
       "</style>\n",
       "<table border=\"1\" class=\"dataframe\">\n",
       "  <thead>\n",
       "    <tr style=\"text-align: right;\">\n",
       "      <th></th>\n",
       "      <th>type_encode</th>\n",
       "      <th>type</th>\n",
       "    </tr>\n",
       "  </thead>\n",
       "  <tbody>\n",
       "    <tr>\n",
       "      <th>5300</th>\n",
       "      <td>0</td>\n",
       "      <td>Red</td>\n",
       "    </tr>\n",
       "    <tr>\n",
       "      <th>5301</th>\n",
       "      <td>0</td>\n",
       "      <td>Red</td>\n",
       "    </tr>\n",
       "  </tbody>\n",
       "</table>\n",
       "</div>"
      ],
      "text/plain": [
       "      type_encode type\n",
       "5300            0  Red\n",
       "5301            0  Red"
      ]
     },
     "execution_count": 15,
     "metadata": {},
     "output_type": "execute_result"
    }
   ],
   "source": [
    "df_wines[['type_encode','type']].tail(2)"
   ]
  },
  {
   "cell_type": "code",
   "execution_count": 18,
   "metadata": {},
   "outputs": [
    {
     "data": {
      "text/plain": [
       "array([1, 0])"
      ]
     },
     "execution_count": 18,
     "metadata": {},
     "output_type": "execute_result"
    }
   ],
   "source": [
    "df_wines.type_encode.unique()"
   ]
  },
  {
   "cell_type": "code",
   "execution_count": 19,
   "metadata": {},
   "outputs": [],
   "source": [
    "from sklearn.preprocessing import StandardScaler"
   ]
  },
  {
   "cell_type": "code",
   "execution_count": 23,
   "metadata": {},
   "outputs": [],
   "source": [
    "scaler = StandardScaler()\n",
    "df_wines[['fixed acidity', 'volatile acidity', 'citric acid', 'residual sugar','chlorides', 'free sulfur dioxide', 'total sulfur dioxide', 'density','pH', 'sulphates']] = scaler.fit_transform(df_wines[['fixed acidity', 'volatile acidity', 'citric acid', 'residual sugar','chlorides', 'free sulfur dioxide', 'total sulfur dioxide', 'density','pH', 'sulphates']])"
   ]
  },
  {
   "cell_type": "code",
   "execution_count": 24,
   "metadata": {},
   "outputs": [
    {
     "data": {
      "text/html": [
       "<div>\n",
       "<style scoped>\n",
       "    .dataframe tbody tr th:only-of-type {\n",
       "        vertical-align: middle;\n",
       "    }\n",
       "\n",
       "    .dataframe tbody tr th {\n",
       "        vertical-align: top;\n",
       "    }\n",
       "\n",
       "    .dataframe thead th {\n",
       "        text-align: right;\n",
       "    }\n",
       "</style>\n",
       "<table border=\"1\" class=\"dataframe\">\n",
       "  <thead>\n",
       "    <tr style=\"text-align: right;\">\n",
       "      <th></th>\n",
       "      <th>fixed acidity</th>\n",
       "      <th>volatile acidity</th>\n",
       "      <th>citric acid</th>\n",
       "      <th>residual sugar</th>\n",
       "      <th>chlorides</th>\n",
       "      <th>free sulfur dioxide</th>\n",
       "      <th>total sulfur dioxide</th>\n",
       "      <th>density</th>\n",
       "      <th>pH</th>\n",
       "      <th>sulphates</th>\n",
       "      <th>type</th>\n",
       "      <th>type_encode</th>\n",
       "    </tr>\n",
       "  </thead>\n",
       "  <tbody>\n",
       "    <tr>\n",
       "      <th>0</th>\n",
       "      <td>-0.159701</td>\n",
       "      <td>-0.440838</td>\n",
       "      <td>0.292387</td>\n",
       "      <td>3.553645</td>\n",
       "      <td>-0.324804</td>\n",
       "      <td>0.863307</td>\n",
       "      <td>0.998873</td>\n",
       "      <td>2.238849</td>\n",
       "      <td>-1.405957</td>\n",
       "      <td>-0.565671</td>\n",
       "      <td>White</td>\n",
       "      <td>1</td>\n",
       "    </tr>\n",
       "    <tr>\n",
       "      <th>1</th>\n",
       "      <td>-0.693989</td>\n",
       "      <td>-0.261561</td>\n",
       "      <td>0.154343</td>\n",
       "      <td>-0.778445</td>\n",
       "      <td>-0.211410</td>\n",
       "      <td>-0.917994</td>\n",
       "      <td>0.323077</td>\n",
       "      <td>-0.180141</td>\n",
       "      <td>0.467977</td>\n",
       "      <td>-0.290775</td>\n",
       "      <td>White</td>\n",
       "      <td>1</td>\n",
       "    </tr>\n",
       "    <tr>\n",
       "      <th>2</th>\n",
       "      <td>0.679896</td>\n",
       "      <td>-0.381079</td>\n",
       "      <td>0.568475</td>\n",
       "      <td>0.423653</td>\n",
       "      <td>-0.183062</td>\n",
       "      <td>0.001387</td>\n",
       "      <td>-0.299366</td>\n",
       "      <td>0.199986</td>\n",
       "      <td>0.218119</td>\n",
       "      <td>-0.634395</td>\n",
       "      <td>White</td>\n",
       "      <td>1</td>\n",
       "    </tr>\n",
       "    <tr>\n",
       "      <th>3</th>\n",
       "      <td>-0.007047</td>\n",
       "      <td>-0.679873</td>\n",
       "      <td>0.016299</td>\n",
       "      <td>0.786551</td>\n",
       "      <td>0.043726</td>\n",
       "      <td>0.978230</td>\n",
       "      <td>1.283418</td>\n",
       "      <td>0.372771</td>\n",
       "      <td>-0.219132</td>\n",
       "      <td>-0.909291</td>\n",
       "      <td>White</td>\n",
       "      <td>1</td>\n",
       "    </tr>\n",
       "    <tr>\n",
       "      <th>4</th>\n",
       "      <td>-0.770316</td>\n",
       "      <td>-0.142043</td>\n",
       "      <td>-1.088053</td>\n",
       "      <td>0.446335</td>\n",
       "      <td>-0.324804</td>\n",
       "      <td>0.001387</td>\n",
       "      <td>0.394213</td>\n",
       "      <td>0.130872</td>\n",
       "      <td>-0.281597</td>\n",
       "      <td>-0.428223</td>\n",
       "      <td>White</td>\n",
       "      <td>1</td>\n",
       "    </tr>\n",
       "    <tr>\n",
       "      <th>...</th>\n",
       "      <td>...</td>\n",
       "      <td>...</td>\n",
       "      <td>...</td>\n",
       "      <td>...</td>\n",
       "      <td>...</td>\n",
       "      <td>...</td>\n",
       "      <td>...</td>\n",
       "      <td>...</td>\n",
       "      <td>...</td>\n",
       "      <td>...</td>\n",
       "      <td>...</td>\n",
       "      <td>...</td>\n",
       "    </tr>\n",
       "    <tr>\n",
       "      <th>5297</th>\n",
       "      <td>-0.312355</td>\n",
       "      <td>1.650725</td>\n",
       "      <td>-1.640229</td>\n",
       "      <td>-0.710401</td>\n",
       "      <td>0.327210</td>\n",
       "      <td>-0.113535</td>\n",
       "      <td>-1.348628</td>\n",
       "      <td>0.687240</td>\n",
       "      <td>1.217550</td>\n",
       "      <td>1.977120</td>\n",
       "      <td>Red</td>\n",
       "      <td>0</td>\n",
       "    </tr>\n",
       "    <tr>\n",
       "      <th>5298</th>\n",
       "      <td>-0.770316</td>\n",
       "      <td>1.531207</td>\n",
       "      <td>-1.640229</td>\n",
       "      <td>-0.687720</td>\n",
       "      <td>0.950876</td>\n",
       "      <td>0.116310</td>\n",
       "      <td>-1.241923</td>\n",
       "      <td>0.130872</td>\n",
       "      <td>1.404944</td>\n",
       "      <td>0.327742</td>\n",
       "      <td>Red</td>\n",
       "      <td>0</td>\n",
       "    </tr>\n",
       "    <tr>\n",
       "      <th>5299</th>\n",
       "      <td>-0.999297</td>\n",
       "      <td>1.232412</td>\n",
       "      <td>-1.502185</td>\n",
       "      <td>-0.642358</td>\n",
       "      <td>0.157119</td>\n",
       "      <td>0.518539</td>\n",
       "      <td>-1.117434</td>\n",
       "      <td>0.206897</td>\n",
       "      <td>1.842195</td>\n",
       "      <td>1.564775</td>\n",
       "      <td>Red</td>\n",
       "      <td>0</td>\n",
       "    </tr>\n",
       "    <tr>\n",
       "      <th>5300</th>\n",
       "      <td>-0.999297</td>\n",
       "      <td>1.800122</td>\n",
       "      <td>-1.364141</td>\n",
       "      <td>-0.687720</td>\n",
       "      <td>0.525649</td>\n",
       "      <td>0.116310</td>\n",
       "      <td>-1.241923</td>\n",
       "      <td>0.327847</td>\n",
       "      <td>2.154517</td>\n",
       "      <td>1.221155</td>\n",
       "      <td>Red</td>\n",
       "      <td>0</td>\n",
       "    </tr>\n",
       "    <tr>\n",
       "      <th>5301</th>\n",
       "      <td>-0.922970</td>\n",
       "      <td>-0.201802</td>\n",
       "      <td>1.051628</td>\n",
       "      <td>-0.324823</td>\n",
       "      <td>0.298862</td>\n",
       "      <td>-0.688149</td>\n",
       "      <td>-1.277491</td>\n",
       "      <td>0.334758</td>\n",
       "      <td>1.030157</td>\n",
       "      <td>0.877535</td>\n",
       "      <td>Red</td>\n",
       "      <td>0</td>\n",
       "    </tr>\n",
       "  </tbody>\n",
       "</table>\n",
       "<p>5302 rows × 12 columns</p>\n",
       "</div>"
      ],
      "text/plain": [
       "      fixed acidity  volatile acidity  citric acid  residual sugar  chlorides  \\\n",
       "0         -0.159701         -0.440838     0.292387        3.553645  -0.324804   \n",
       "1         -0.693989         -0.261561     0.154343       -0.778445  -0.211410   \n",
       "2          0.679896         -0.381079     0.568475        0.423653  -0.183062   \n",
       "3         -0.007047         -0.679873     0.016299        0.786551   0.043726   \n",
       "4         -0.770316         -0.142043    -1.088053        0.446335  -0.324804   \n",
       "...             ...               ...          ...             ...        ...   \n",
       "5297      -0.312355          1.650725    -1.640229       -0.710401   0.327210   \n",
       "5298      -0.770316          1.531207    -1.640229       -0.687720   0.950876   \n",
       "5299      -0.999297          1.232412    -1.502185       -0.642358   0.157119   \n",
       "5300      -0.999297          1.800122    -1.364141       -0.687720   0.525649   \n",
       "5301      -0.922970         -0.201802     1.051628       -0.324823   0.298862   \n",
       "\n",
       "      free sulfur dioxide  total sulfur dioxide   density        pH  \\\n",
       "0                0.863307              0.998873  2.238849 -1.405957   \n",
       "1               -0.917994              0.323077 -0.180141  0.467977   \n",
       "2                0.001387             -0.299366  0.199986  0.218119   \n",
       "3                0.978230              1.283418  0.372771 -0.219132   \n",
       "4                0.001387              0.394213  0.130872 -0.281597   \n",
       "...                   ...                   ...       ...       ...   \n",
       "5297            -0.113535             -1.348628  0.687240  1.217550   \n",
       "5298             0.116310             -1.241923  0.130872  1.404944   \n",
       "5299             0.518539             -1.117434  0.206897  1.842195   \n",
       "5300             0.116310             -1.241923  0.327847  2.154517   \n",
       "5301            -0.688149             -1.277491  0.334758  1.030157   \n",
       "\n",
       "      sulphates   type  type_encode  \n",
       "0     -0.565671  White            1  \n",
       "1     -0.290775  White            1  \n",
       "2     -0.634395  White            1  \n",
       "3     -0.909291  White            1  \n",
       "4     -0.428223  White            1  \n",
       "...         ...    ...          ...  \n",
       "5297   1.977120    Red            0  \n",
       "5298   0.327742    Red            0  \n",
       "5299   1.564775    Red            0  \n",
       "5300   1.221155    Red            0  \n",
       "5301   0.877535    Red            0  \n",
       "\n",
       "[5302 rows x 12 columns]"
      ]
     },
     "execution_count": 24,
     "metadata": {},
     "output_type": "execute_result"
    }
   ],
   "source": [
    "df_wines"
   ]
  },
  {
   "cell_type": "markdown",
   "metadata": {},
   "source": [
    "Con los datos estandarizados, procedemos a implementar algoritmos de clasificacion pero antes:"
   ]
  },
  {
   "cell_type": "code",
   "execution_count": 26,
   "metadata": {},
   "outputs": [
    {
     "data": {
      "text/plain": [
       "(5302, 12)"
      ]
     },
     "execution_count": 26,
     "metadata": {},
     "output_type": "execute_result"
    }
   ],
   "source": [
    "df_wines.shape"
   ]
  },
  {
   "cell_type": "code",
   "execution_count": 30,
   "metadata": {},
   "outputs": [],
   "source": [
    "df_wines_red = df_wines[df_wines['type']== 'Red']"
   ]
  },
  {
   "cell_type": "code",
   "execution_count": 29,
   "metadata": {},
   "outputs": [
    {
     "data": {
      "text/plain": [
       "(3951, 12)"
      ]
     },
     "execution_count": 29,
     "metadata": {},
     "output_type": "execute_result"
    }
   ],
   "source": [
    "df_wines[df_wines['type']== 'White'].shape"
   ]
  },
  {
   "cell_type": "markdown",
   "metadata": {},
   "source": [
    "La idea es utilizar un dataset de entrenamiento balanceado segun las clases del tipo de vino. Por esa razon aleatoriamente escogeremos 1351 datos de vino blanco igualando la cantidad de datos que tiene el vino rojo."
   ]
  },
  {
   "cell_type": "code",
   "execution_count": 31,
   "metadata": {},
   "outputs": [],
   "source": [
    "df_wines_white = df_wines[df_wines['type']== 'White'].sample(1351)\n"
   ]
  },
  {
   "cell_type": "code",
   "execution_count": 32,
   "metadata": {},
   "outputs": [
    {
     "data": {
      "text/plain": [
       "(1351, 12)"
      ]
     },
     "execution_count": 32,
     "metadata": {},
     "output_type": "execute_result"
    }
   ],
   "source": [
    "df_wines_white.shape"
   ]
  },
  {
   "cell_type": "code",
   "execution_count": 34,
   "metadata": {},
   "outputs": [
    {
     "data": {
      "text/html": [
       "<div>\n",
       "<style scoped>\n",
       "    .dataframe tbody tr th:only-of-type {\n",
       "        vertical-align: middle;\n",
       "    }\n",
       "\n",
       "    .dataframe tbody tr th {\n",
       "        vertical-align: top;\n",
       "    }\n",
       "\n",
       "    .dataframe thead th {\n",
       "        text-align: right;\n",
       "    }\n",
       "</style>\n",
       "<table border=\"1\" class=\"dataframe\">\n",
       "  <thead>\n",
       "    <tr style=\"text-align: right;\">\n",
       "      <th></th>\n",
       "      <th>fixed acidity</th>\n",
       "      <th>volatile acidity</th>\n",
       "      <th>citric acid</th>\n",
       "      <th>residual sugar</th>\n",
       "      <th>chlorides</th>\n",
       "      <th>free sulfur dioxide</th>\n",
       "      <th>total sulfur dioxide</th>\n",
       "      <th>density</th>\n",
       "      <th>pH</th>\n",
       "      <th>sulphates</th>\n",
       "      <th>type</th>\n",
       "      <th>type_encode</th>\n",
       "    </tr>\n",
       "  </thead>\n",
       "  <tbody>\n",
       "    <tr>\n",
       "      <th>0</th>\n",
       "      <td>1.061530</td>\n",
       "      <td>0.096993</td>\n",
       "      <td>-0.397833</td>\n",
       "      <td>1.376259</td>\n",
       "      <td>-0.750031</td>\n",
       "      <td>0.777115</td>\n",
       "      <td>1.016657</td>\n",
       "      <td>0.096315</td>\n",
       "      <td>-1.218563</td>\n",
       "      <td>-0.290775</td>\n",
       "      <td>White</td>\n",
       "      <td>1</td>\n",
       "    </tr>\n",
       "    <tr>\n",
       "      <th>1</th>\n",
       "      <td>-0.312355</td>\n",
       "      <td>-0.022525</td>\n",
       "      <td>0.292387</td>\n",
       "      <td>0.877275</td>\n",
       "      <td>-0.778379</td>\n",
       "      <td>0.805846</td>\n",
       "      <td>0.251941</td>\n",
       "      <td>-0.463508</td>\n",
       "      <td>0.343048</td>\n",
       "      <td>-1.252912</td>\n",
       "      <td>White</td>\n",
       "      <td>1</td>\n",
       "    </tr>\n",
       "    <tr>\n",
       "      <th>2</th>\n",
       "      <td>0.756223</td>\n",
       "      <td>-0.978668</td>\n",
       "      <td>0.430431</td>\n",
       "      <td>-0.891850</td>\n",
       "      <td>-0.466546</td>\n",
       "      <td>0.633462</td>\n",
       "      <td>-0.388287</td>\n",
       "      <td>-1.348167</td>\n",
       "      <td>-2.155530</td>\n",
       "      <td>0.465190</td>\n",
       "      <td>White</td>\n",
       "      <td>1</td>\n",
       "    </tr>\n",
       "    <tr>\n",
       "      <th>3</th>\n",
       "      <td>-0.388681</td>\n",
       "      <td>-0.500597</td>\n",
       "      <td>-0.190767</td>\n",
       "      <td>0.469016</td>\n",
       "      <td>-0.579940</td>\n",
       "      <td>-0.113535</td>\n",
       "      <td>-0.246014</td>\n",
       "      <td>0.282923</td>\n",
       "      <td>-0.906241</td>\n",
       "      <td>-1.184188</td>\n",
       "      <td>White</td>\n",
       "      <td>1</td>\n",
       "    </tr>\n",
       "    <tr>\n",
       "      <th>4</th>\n",
       "      <td>1.672146</td>\n",
       "      <td>-1.098186</td>\n",
       "      <td>-0.121745</td>\n",
       "      <td>-0.823807</td>\n",
       "      <td>-0.409849</td>\n",
       "      <td>-0.228458</td>\n",
       "      <td>1.105577</td>\n",
       "      <td>0.303657</td>\n",
       "      <td>-0.468990</td>\n",
       "      <td>-0.496947</td>\n",
       "      <td>White</td>\n",
       "      <td>1</td>\n",
       "    </tr>\n",
       "  </tbody>\n",
       "</table>\n",
       "</div>"
      ],
      "text/plain": [
       "   fixed acidity  volatile acidity  citric acid  residual sugar  chlorides  \\\n",
       "0       1.061530          0.096993    -0.397833        1.376259  -0.750031   \n",
       "1      -0.312355         -0.022525     0.292387        0.877275  -0.778379   \n",
       "2       0.756223         -0.978668     0.430431       -0.891850  -0.466546   \n",
       "3      -0.388681         -0.500597    -0.190767        0.469016  -0.579940   \n",
       "4       1.672146         -1.098186    -0.121745       -0.823807  -0.409849   \n",
       "\n",
       "   free sulfur dioxide  total sulfur dioxide   density        pH  sulphates  \\\n",
       "0             0.777115              1.016657  0.096315 -1.218563  -0.290775   \n",
       "1             0.805846              0.251941 -0.463508  0.343048  -1.252912   \n",
       "2             0.633462             -0.388287 -1.348167 -2.155530   0.465190   \n",
       "3            -0.113535             -0.246014  0.282923 -0.906241  -1.184188   \n",
       "4            -0.228458              1.105577  0.303657 -0.468990  -0.496947   \n",
       "\n",
       "    type  type_encode  \n",
       "0  White            1  \n",
       "1  White            1  \n",
       "2  White            1  \n",
       "3  White            1  \n",
       "4  White            1  "
      ]
     },
     "execution_count": 34,
     "metadata": {},
     "output_type": "execute_result"
    }
   ],
   "source": [
    "df_wines_class = pd.concat([df_wines_white,df_wines_red], ignore_index= True)\n",
    "df_wines_class.head()"
   ]
  },
  {
   "cell_type": "code",
   "execution_count": 37,
   "metadata": {},
   "outputs": [],
   "source": [
    "df_wines_class = df_wines_class.sample(frac=1)"
   ]
  },
  {
   "cell_type": "code",
   "execution_count": 38,
   "metadata": {},
   "outputs": [
    {
     "data": {
      "text/html": [
       "<div>\n",
       "<style scoped>\n",
       "    .dataframe tbody tr th:only-of-type {\n",
       "        vertical-align: middle;\n",
       "    }\n",
       "\n",
       "    .dataframe tbody tr th {\n",
       "        vertical-align: top;\n",
       "    }\n",
       "\n",
       "    .dataframe thead th {\n",
       "        text-align: right;\n",
       "    }\n",
       "</style>\n",
       "<table border=\"1\" class=\"dataframe\">\n",
       "  <thead>\n",
       "    <tr style=\"text-align: right;\">\n",
       "      <th></th>\n",
       "      <th>fixed acidity</th>\n",
       "      <th>volatile acidity</th>\n",
       "      <th>citric acid</th>\n",
       "      <th>residual sugar</th>\n",
       "      <th>chlorides</th>\n",
       "      <th>free sulfur dioxide</th>\n",
       "      <th>total sulfur dioxide</th>\n",
       "      <th>density</th>\n",
       "      <th>pH</th>\n",
       "      <th>sulphates</th>\n",
       "      <th>type</th>\n",
       "      <th>type_encode</th>\n",
       "    </tr>\n",
       "  </thead>\n",
       "  <tbody>\n",
       "    <tr>\n",
       "      <th>2299</th>\n",
       "      <td>2.664396</td>\n",
       "      <td>0.336028</td>\n",
       "      <td>0.361409</td>\n",
       "      <td>-0.710401</td>\n",
       "      <td>0.695740</td>\n",
       "      <td>-0.745610</td>\n",
       "      <td>-1.508684</td>\n",
       "      <td>0.766721</td>\n",
       "      <td>-0.656383</td>\n",
       "      <td>0.808811</td>\n",
       "      <td>Red</td>\n",
       "      <td>0</td>\n",
       "    </tr>\n",
       "    <tr>\n",
       "      <th>482</th>\n",
       "      <td>-0.999297</td>\n",
       "      <td>-0.022525</td>\n",
       "      <td>-0.121745</td>\n",
       "      <td>-0.279460</td>\n",
       "      <td>-0.608288</td>\n",
       "      <td>1.552843</td>\n",
       "      <td>0.376429</td>\n",
       "      <td>-1.507130</td>\n",
       "      <td>-0.843777</td>\n",
       "      <td>-1.321636</td>\n",
       "      <td>White</td>\n",
       "      <td>1</td>\n",
       "    </tr>\n",
       "    <tr>\n",
       "      <th>383</th>\n",
       "      <td>-0.846643</td>\n",
       "      <td>0.096993</td>\n",
       "      <td>-0.397833</td>\n",
       "      <td>0.707167</td>\n",
       "      <td>-0.608288</td>\n",
       "      <td>-0.917994</td>\n",
       "      <td>-0.459423</td>\n",
       "      <td>-1.455294</td>\n",
       "      <td>-1.031170</td>\n",
       "      <td>-1.802704</td>\n",
       "      <td>White</td>\n",
       "      <td>1</td>\n",
       "    </tr>\n",
       "    <tr>\n",
       "      <th>53</th>\n",
       "      <td>-0.312355</td>\n",
       "      <td>-0.022525</td>\n",
       "      <td>2.915222</td>\n",
       "      <td>-0.506271</td>\n",
       "      <td>0.894179</td>\n",
       "      <td>-0.400842</td>\n",
       "      <td>1.265634</td>\n",
       "      <td>-0.594825</td>\n",
       "      <td>1.779730</td>\n",
       "      <td>1.152431</td>\n",
       "      <td>White</td>\n",
       "      <td>1</td>\n",
       "    </tr>\n",
       "    <tr>\n",
       "      <th>2234</th>\n",
       "      <td>1.748473</td>\n",
       "      <td>0.276270</td>\n",
       "      <td>0.637497</td>\n",
       "      <td>0.877275</td>\n",
       "      <td>0.355558</td>\n",
       "      <td>-0.688149</td>\n",
       "      <td>-1.330843</td>\n",
       "      <td>1.406025</td>\n",
       "      <td>0.405512</td>\n",
       "      <td>1.908396</td>\n",
       "      <td>Red</td>\n",
       "      <td>0</td>\n",
       "    </tr>\n",
       "  </tbody>\n",
       "</table>\n",
       "</div>"
      ],
      "text/plain": [
       "      fixed acidity  volatile acidity  citric acid  residual sugar  chlorides  \\\n",
       "2299       2.664396          0.336028     0.361409       -0.710401   0.695740   \n",
       "482       -0.999297         -0.022525    -0.121745       -0.279460  -0.608288   \n",
       "383       -0.846643          0.096993    -0.397833        0.707167  -0.608288   \n",
       "53        -0.312355         -0.022525     2.915222       -0.506271   0.894179   \n",
       "2234       1.748473          0.276270     0.637497        0.877275   0.355558   \n",
       "\n",
       "      free sulfur dioxide  total sulfur dioxide   density        pH  \\\n",
       "2299            -0.745610             -1.508684  0.766721 -0.656383   \n",
       "482              1.552843              0.376429 -1.507130 -0.843777   \n",
       "383             -0.917994             -0.459423 -1.455294 -1.031170   \n",
       "53              -0.400842              1.265634 -0.594825  1.779730   \n",
       "2234            -0.688149             -1.330843  1.406025  0.405512   \n",
       "\n",
       "      sulphates   type  type_encode  \n",
       "2299   0.808811    Red            0  \n",
       "482   -1.321636  White            1  \n",
       "383   -1.802704  White            1  \n",
       "53     1.152431  White            1  \n",
       "2234   1.908396    Red            0  "
      ]
     },
     "execution_count": 38,
     "metadata": {},
     "output_type": "execute_result"
    }
   ],
   "source": [
    "df_wines_class.head()"
   ]
  },
  {
   "cell_type": "code",
   "execution_count": 39,
   "metadata": {},
   "outputs": [],
   "source": [
    "from sklearn.model_selection import train_test_split"
   ]
  },
  {
   "cell_type": "code",
   "execution_count": 40,
   "metadata": {},
   "outputs": [],
   "source": [
    "X = df_wines_class.drop(['type','type_encode'], axis=1)\n",
    "y = df_wines_class['type_encode']"
   ]
  },
  {
   "cell_type": "code",
   "execution_count": 41,
   "metadata": {},
   "outputs": [],
   "source": [
    "x_train, x_test, y_train, y_test = train_test_split(X,y,test_size=0.2, stratify=y)"
   ]
  },
  {
   "cell_type": "code",
   "execution_count": 42,
   "metadata": {},
   "outputs": [],
   "source": [
    "from sklearn.metrics import accuracy_score"
   ]
  },
  {
   "cell_type": "code",
   "execution_count": 51,
   "metadata": {},
   "outputs": [],
   "source": [
    "from sklearn.metrics import confusion_matrix"
   ]
  },
  {
   "cell_type": "code",
   "execution_count": 44,
   "metadata": {},
   "outputs": [],
   "source": [
    "from sklearn.neighbors import KNeighborsClassifier\n",
    "from sklearn.linear_model import LogisticRegression\n",
    "from sklearn.svm import SVC\n",
    "from sklearn.tree import DecisionTreeClassifier\n",
    "from sklearn.ensemble import RandomForestClassifier"
   ]
  },
  {
   "cell_type": "code",
   "execution_count": 45,
   "metadata": {},
   "outputs": [],
   "source": [
    "clf1 = KNeighborsClassifier()\n",
    "clf2 = LogisticRegression()\n",
    "clf3 = SVC()\n",
    "clf4 = DecisionTreeClassifier()\n",
    "clf5 = RandomForestClassifier()"
   ]
  },
  {
   "cell_type": "code",
   "execution_count": 46,
   "metadata": {},
   "outputs": [
    {
     "name": "stdout",
     "output_type": "stream",
     "text": [
      "Metrica:  0.988909426987061\n"
     ]
    }
   ],
   "source": [
    "clf1.fit(x_train,y_train)\n",
    "y_pred_clf1 = clf1.predict(x_test)\n",
    "print(\"Metrica: \", accuracy_score(y_pred_clf1,y_test))"
   ]
  },
  {
   "cell_type": "code",
   "execution_count": 52,
   "metadata": {},
   "outputs": [
    {
     "data": {
      "text/plain": [
       "array([[267,   3],\n",
       "       [  3, 268]], dtype=int64)"
      ]
     },
     "execution_count": 52,
     "metadata": {},
     "output_type": "execute_result"
    }
   ],
   "source": [
    "confusion_matrix(y_test,y_pred_clf1)"
   ]
  },
  {
   "cell_type": "code",
   "execution_count": 47,
   "metadata": {},
   "outputs": [
    {
     "name": "stdout",
     "output_type": "stream",
     "text": [
      "Metrica:  0.9907578558225508\n"
     ]
    }
   ],
   "source": [
    "clf2.fit(x_train,y_train)\n",
    "y_pred_clf2 = clf2.predict(x_test)\n",
    "print(\"Metrica: \", accuracy_score(y_pred_clf2,y_test))"
   ]
  },
  {
   "cell_type": "code",
   "execution_count": 53,
   "metadata": {},
   "outputs": [
    {
     "data": {
      "text/plain": [
       "array([[268,   2],\n",
       "       [  3, 268]], dtype=int64)"
      ]
     },
     "execution_count": 53,
     "metadata": {},
     "output_type": "execute_result"
    }
   ],
   "source": [
    "confusion_matrix(y_test,y_pred_clf2)"
   ]
  },
  {
   "cell_type": "code",
   "execution_count": 48,
   "metadata": {},
   "outputs": [
    {
     "name": "stdout",
     "output_type": "stream",
     "text": [
      "Metrica:  0.9926062846580407\n"
     ]
    }
   ],
   "source": [
    "clf3.fit(x_train,y_train)\n",
    "y_pred_clf3 = clf3.predict(x_test)\n",
    "print(\"Metrica: \", accuracy_score(y_pred_clf3,y_test))"
   ]
  },
  {
   "cell_type": "code",
   "execution_count": 54,
   "metadata": {},
   "outputs": [
    {
     "data": {
      "text/plain": [
       "array([[268,   2],\n",
       "       [  2, 269]], dtype=int64)"
      ]
     },
     "execution_count": 54,
     "metadata": {},
     "output_type": "execute_result"
    }
   ],
   "source": [
    "confusion_matrix(y_test,y_pred_clf3)"
   ]
  },
  {
   "cell_type": "code",
   "execution_count": 49,
   "metadata": {},
   "outputs": [
    {
     "name": "stdout",
     "output_type": "stream",
     "text": [
      "Metrica:  0.977818853974122\n"
     ]
    }
   ],
   "source": [
    "clf4.fit(x_train,y_train)\n",
    "y_pred_clf4 = clf4.predict(x_test)\n",
    "print(\"Metrica: \", accuracy_score(y_pred_clf4,y_test))"
   ]
  },
  {
   "cell_type": "code",
   "execution_count": 55,
   "metadata": {},
   "outputs": [
    {
     "data": {
      "text/plain": [
       "array([[260,  10],\n",
       "       [  2, 269]], dtype=int64)"
      ]
     },
     "execution_count": 55,
     "metadata": {},
     "output_type": "execute_result"
    }
   ],
   "source": [
    "confusion_matrix(y_test,y_pred_clf4)"
   ]
  },
  {
   "cell_type": "code",
   "execution_count": 50,
   "metadata": {},
   "outputs": [
    {
     "name": "stdout",
     "output_type": "stream",
     "text": [
      "Metrica:  0.9907578558225508\n"
     ]
    }
   ],
   "source": [
    "clf5.fit(x_train,y_train)\n",
    "y_pred_clf5 = clf5.predict(x_test)\n",
    "print(\"Metrica: \", accuracy_score(y_pred_clf5,y_test))"
   ]
  },
  {
   "cell_type": "code",
   "execution_count": 56,
   "metadata": {},
   "outputs": [
    {
     "data": {
      "text/plain": [
       "array([[266,   4],\n",
       "       [  1, 270]], dtype=int64)"
      ]
     },
     "execution_count": 56,
     "metadata": {},
     "output_type": "execute_result"
    }
   ],
   "source": [
    "confusion_matrix(y_test,y_pred_clf5)"
   ]
  },
  {
   "cell_type": "markdown",
   "metadata": {},
   "source": [
    "## PRUEBA FINAL"
   ]
  },
  {
   "cell_type": "code",
   "execution_count": 65,
   "metadata": {},
   "outputs": [],
   "source": [
    "r_5 = df_wines[df_wines['type'] == 'Red'].sample(5)\n",
    "w_5 = df_wines[df_wines['type'] =='White'].sample(5)"
   ]
  },
  {
   "cell_type": "code",
   "execution_count": 66,
   "metadata": {},
   "outputs": [
    {
     "data": {
      "text/html": [
       "<div>\n",
       "<style scoped>\n",
       "    .dataframe tbody tr th:only-of-type {\n",
       "        vertical-align: middle;\n",
       "    }\n",
       "\n",
       "    .dataframe tbody tr th {\n",
       "        vertical-align: top;\n",
       "    }\n",
       "\n",
       "    .dataframe thead th {\n",
       "        text-align: right;\n",
       "    }\n",
       "</style>\n",
       "<table border=\"1\" class=\"dataframe\">\n",
       "  <thead>\n",
       "    <tr style=\"text-align: right;\">\n",
       "      <th></th>\n",
       "      <th>fixed acidity</th>\n",
       "      <th>volatile acidity</th>\n",
       "      <th>citric acid</th>\n",
       "      <th>residual sugar</th>\n",
       "      <th>chlorides</th>\n",
       "      <th>free sulfur dioxide</th>\n",
       "      <th>total sulfur dioxide</th>\n",
       "      <th>density</th>\n",
       "      <th>pH</th>\n",
       "      <th>sulphates</th>\n",
       "      <th>type</th>\n",
       "      <th>type_encode</th>\n",
       "    </tr>\n",
       "  </thead>\n",
       "  <tbody>\n",
       "    <tr>\n",
       "      <th>4104</th>\n",
       "      <td>0.221934</td>\n",
       "      <td>1.053136</td>\n",
       "      <td>0.706518</td>\n",
       "      <td>-0.619677</td>\n",
       "      <td>0.865830</td>\n",
       "      <td>-1.262762</td>\n",
       "      <td>-1.348628</td>\n",
       "      <td>0.925683</td>\n",
       "      <td>2.216982</td>\n",
       "      <td>0.533914</td>\n",
       "      <td>Red</td>\n",
       "      <td>0</td>\n",
       "    </tr>\n",
       "    <tr>\n",
       "      <th>4587</th>\n",
       "      <td>0.832549</td>\n",
       "      <td>2.487350</td>\n",
       "      <td>-0.190767</td>\n",
       "      <td>-0.188736</td>\n",
       "      <td>0.525649</td>\n",
       "      <td>-1.032917</td>\n",
       "      <td>-1.739878</td>\n",
       "      <td>0.683784</td>\n",
       "      <td>1.404944</td>\n",
       "      <td>1.014983</td>\n",
       "      <td>Red</td>\n",
       "      <td>0</td>\n",
       "    </tr>\n",
       "    <tr>\n",
       "      <th>5172</th>\n",
       "      <td>-0.007047</td>\n",
       "      <td>0.216511</td>\n",
       "      <td>-0.052723</td>\n",
       "      <td>-0.687720</td>\n",
       "      <td>-0.012971</td>\n",
       "      <td>-0.860533</td>\n",
       "      <td>-1.508684</td>\n",
       "      <td>0.068669</td>\n",
       "      <td>0.030726</td>\n",
       "      <td>1.564775</td>\n",
       "      <td>Red</td>\n",
       "      <td>0</td>\n",
       "    </tr>\n",
       "    <tr>\n",
       "      <th>4575</th>\n",
       "      <td>0.679896</td>\n",
       "      <td>2.248314</td>\n",
       "      <td>-1.571207</td>\n",
       "      <td>-0.506271</td>\n",
       "      <td>0.780785</td>\n",
       "      <td>-0.688149</td>\n",
       "      <td>-1.153003</td>\n",
       "      <td>1.685937</td>\n",
       "      <td>1.280015</td>\n",
       "      <td>1.289879</td>\n",
       "      <td>Red</td>\n",
       "      <td>0</td>\n",
       "    </tr>\n",
       "    <tr>\n",
       "      <th>4274</th>\n",
       "      <td>0.145607</td>\n",
       "      <td>1.232412</td>\n",
       "      <td>-0.673921</td>\n",
       "      <td>-0.642358</td>\n",
       "      <td>1.404451</td>\n",
       "      <td>-1.032917</td>\n",
       "      <td>-0.743968</td>\n",
       "      <td>0.476442</td>\n",
       "      <td>-1.093635</td>\n",
       "      <td>0.671362</td>\n",
       "      <td>Red</td>\n",
       "      <td>0</td>\n",
       "    </tr>\n",
       "  </tbody>\n",
       "</table>\n",
       "</div>"
      ],
      "text/plain": [
       "      fixed acidity  volatile acidity  citric acid  residual sugar  chlorides  \\\n",
       "4104       0.221934          1.053136     0.706518       -0.619677   0.865830   \n",
       "4587       0.832549          2.487350    -0.190767       -0.188736   0.525649   \n",
       "5172      -0.007047          0.216511    -0.052723       -0.687720  -0.012971   \n",
       "4575       0.679896          2.248314    -1.571207       -0.506271   0.780785   \n",
       "4274       0.145607          1.232412    -0.673921       -0.642358   1.404451   \n",
       "\n",
       "      free sulfur dioxide  total sulfur dioxide   density        pH  \\\n",
       "4104            -1.262762             -1.348628  0.925683  2.216982   \n",
       "4587            -1.032917             -1.739878  0.683784  1.404944   \n",
       "5172            -0.860533             -1.508684  0.068669  0.030726   \n",
       "4575            -0.688149             -1.153003  1.685937  1.280015   \n",
       "4274            -1.032917             -0.743968  0.476442 -1.093635   \n",
       "\n",
       "      sulphates type  type_encode  \n",
       "4104   0.533914  Red            0  \n",
       "4587   1.014983  Red            0  \n",
       "5172   1.564775  Red            0  \n",
       "4575   1.289879  Red            0  \n",
       "4274   0.671362  Red            0  "
      ]
     },
     "execution_count": 66,
     "metadata": {},
     "output_type": "execute_result"
    }
   ],
   "source": [
    "r_5"
   ]
  },
  {
   "cell_type": "code",
   "execution_count": 69,
   "metadata": {},
   "outputs": [
    {
     "data": {
      "text/html": [
       "<div>\n",
       "<style scoped>\n",
       "    .dataframe tbody tr th:only-of-type {\n",
       "        vertical-align: middle;\n",
       "    }\n",
       "\n",
       "    .dataframe tbody tr th {\n",
       "        vertical-align: top;\n",
       "    }\n",
       "\n",
       "    .dataframe thead th {\n",
       "        text-align: right;\n",
       "    }\n",
       "</style>\n",
       "<table border=\"1\" class=\"dataframe\">\n",
       "  <thead>\n",
       "    <tr style=\"text-align: right;\">\n",
       "      <th></th>\n",
       "      <th>fixed acidity</th>\n",
       "      <th>volatile acidity</th>\n",
       "      <th>citric acid</th>\n",
       "      <th>residual sugar</th>\n",
       "      <th>chlorides</th>\n",
       "      <th>free sulfur dioxide</th>\n",
       "      <th>total sulfur dioxide</th>\n",
       "      <th>density</th>\n",
       "      <th>pH</th>\n",
       "      <th>sulphates</th>\n",
       "      <th>type</th>\n",
       "      <th>type_encode</th>\n",
       "    </tr>\n",
       "  </thead>\n",
       "  <tbody>\n",
       "    <tr>\n",
       "      <th>0</th>\n",
       "      <td>0.221934</td>\n",
       "      <td>1.053136</td>\n",
       "      <td>0.706518</td>\n",
       "      <td>-0.619677</td>\n",
       "      <td>0.865830</td>\n",
       "      <td>-1.262762</td>\n",
       "      <td>-1.348628</td>\n",
       "      <td>0.925683</td>\n",
       "      <td>2.216982</td>\n",
       "      <td>0.533914</td>\n",
       "      <td>Red</td>\n",
       "      <td>0</td>\n",
       "    </tr>\n",
       "    <tr>\n",
       "      <th>1</th>\n",
       "      <td>0.832549</td>\n",
       "      <td>2.487350</td>\n",
       "      <td>-0.190767</td>\n",
       "      <td>-0.188736</td>\n",
       "      <td>0.525649</td>\n",
       "      <td>-1.032917</td>\n",
       "      <td>-1.739878</td>\n",
       "      <td>0.683784</td>\n",
       "      <td>1.404944</td>\n",
       "      <td>1.014983</td>\n",
       "      <td>Red</td>\n",
       "      <td>0</td>\n",
       "    </tr>\n",
       "    <tr>\n",
       "      <th>2</th>\n",
       "      <td>-0.007047</td>\n",
       "      <td>0.216511</td>\n",
       "      <td>-0.052723</td>\n",
       "      <td>-0.687720</td>\n",
       "      <td>-0.012971</td>\n",
       "      <td>-0.860533</td>\n",
       "      <td>-1.508684</td>\n",
       "      <td>0.068669</td>\n",
       "      <td>0.030726</td>\n",
       "      <td>1.564775</td>\n",
       "      <td>Red</td>\n",
       "      <td>0</td>\n",
       "    </tr>\n",
       "    <tr>\n",
       "      <th>3</th>\n",
       "      <td>0.679896</td>\n",
       "      <td>2.248314</td>\n",
       "      <td>-1.571207</td>\n",
       "      <td>-0.506271</td>\n",
       "      <td>0.780785</td>\n",
       "      <td>-0.688149</td>\n",
       "      <td>-1.153003</td>\n",
       "      <td>1.685937</td>\n",
       "      <td>1.280015</td>\n",
       "      <td>1.289879</td>\n",
       "      <td>Red</td>\n",
       "      <td>0</td>\n",
       "    </tr>\n",
       "    <tr>\n",
       "      <th>4</th>\n",
       "      <td>0.145607</td>\n",
       "      <td>1.232412</td>\n",
       "      <td>-0.673921</td>\n",
       "      <td>-0.642358</td>\n",
       "      <td>1.404451</td>\n",
       "      <td>-1.032917</td>\n",
       "      <td>-0.743968</td>\n",
       "      <td>0.476442</td>\n",
       "      <td>-1.093635</td>\n",
       "      <td>0.671362</td>\n",
       "      <td>Red</td>\n",
       "      <td>0</td>\n",
       "    </tr>\n",
       "    <tr>\n",
       "      <th>5</th>\n",
       "      <td>-0.236028</td>\n",
       "      <td>-0.082284</td>\n",
       "      <td>-0.259789</td>\n",
       "      <td>-0.846488</td>\n",
       "      <td>-0.154713</td>\n",
       "      <td>0.403617</td>\n",
       "      <td>1.301202</td>\n",
       "      <td>-0.629382</td>\n",
       "      <td>0.280583</td>\n",
       "      <td>0.465190</td>\n",
       "      <td>White</td>\n",
       "      <td>1</td>\n",
       "    </tr>\n",
       "    <tr>\n",
       "      <th>6</th>\n",
       "      <td>-1.228278</td>\n",
       "      <td>0.873859</td>\n",
       "      <td>-1.295119</td>\n",
       "      <td>-0.120693</td>\n",
       "      <td>-0.494895</td>\n",
       "      <td>-0.745610</td>\n",
       "      <td>0.038532</td>\n",
       "      <td>-1.320522</td>\n",
       "      <td>1.217550</td>\n",
       "      <td>2.526912</td>\n",
       "      <td>White</td>\n",
       "      <td>1</td>\n",
       "    </tr>\n",
       "    <tr>\n",
       "      <th>7</th>\n",
       "      <td>-0.388681</td>\n",
       "      <td>-0.620114</td>\n",
       "      <td>0.982606</td>\n",
       "      <td>-0.642358</td>\n",
       "      <td>-0.664985</td>\n",
       "      <td>-0.630687</td>\n",
       "      <td>-0.050389</td>\n",
       "      <td>-1.406914</td>\n",
       "      <td>-0.781312</td>\n",
       "      <td>0.602638</td>\n",
       "      <td>White</td>\n",
       "      <td>1</td>\n",
       "    </tr>\n",
       "    <tr>\n",
       "      <th>8</th>\n",
       "      <td>0.221934</td>\n",
       "      <td>-0.978668</td>\n",
       "      <td>0.361409</td>\n",
       "      <td>0.264886</td>\n",
       "      <td>-0.183062</td>\n",
       "      <td>-0.515765</td>\n",
       "      <td>0.429782</td>\n",
       "      <td>0.324391</td>\n",
       "      <td>-0.156668</td>\n",
       "      <td>0.121570</td>\n",
       "      <td>White</td>\n",
       "      <td>1</td>\n",
       "    </tr>\n",
       "    <tr>\n",
       "      <th>9</th>\n",
       "      <td>-0.770316</td>\n",
       "      <td>-0.321320</td>\n",
       "      <td>0.016299</td>\n",
       "      <td>-0.324823</td>\n",
       "      <td>-0.863424</td>\n",
       "      <td>0.518539</td>\n",
       "      <td>0.429782</td>\n",
       "      <td>-1.838877</td>\n",
       "      <td>0.530441</td>\n",
       "      <td>-1.115464</td>\n",
       "      <td>White</td>\n",
       "      <td>1</td>\n",
       "    </tr>\n",
       "  </tbody>\n",
       "</table>\n",
       "</div>"
      ],
      "text/plain": [
       "   fixed acidity  volatile acidity  citric acid  residual sugar  chlorides  \\\n",
       "0       0.221934          1.053136     0.706518       -0.619677   0.865830   \n",
       "1       0.832549          2.487350    -0.190767       -0.188736   0.525649   \n",
       "2      -0.007047          0.216511    -0.052723       -0.687720  -0.012971   \n",
       "3       0.679896          2.248314    -1.571207       -0.506271   0.780785   \n",
       "4       0.145607          1.232412    -0.673921       -0.642358   1.404451   \n",
       "5      -0.236028         -0.082284    -0.259789       -0.846488  -0.154713   \n",
       "6      -1.228278          0.873859    -1.295119       -0.120693  -0.494895   \n",
       "7      -0.388681         -0.620114     0.982606       -0.642358  -0.664985   \n",
       "8       0.221934         -0.978668     0.361409        0.264886  -0.183062   \n",
       "9      -0.770316         -0.321320     0.016299       -0.324823  -0.863424   \n",
       "\n",
       "   free sulfur dioxide  total sulfur dioxide   density        pH  sulphates  \\\n",
       "0            -1.262762             -1.348628  0.925683  2.216982   0.533914   \n",
       "1            -1.032917             -1.739878  0.683784  1.404944   1.014983   \n",
       "2            -0.860533             -1.508684  0.068669  0.030726   1.564775   \n",
       "3            -0.688149             -1.153003  1.685937  1.280015   1.289879   \n",
       "4            -1.032917             -0.743968  0.476442 -1.093635   0.671362   \n",
       "5             0.403617              1.301202 -0.629382  0.280583   0.465190   \n",
       "6            -0.745610              0.038532 -1.320522  1.217550   2.526912   \n",
       "7            -0.630687             -0.050389 -1.406914 -0.781312   0.602638   \n",
       "8            -0.515765              0.429782  0.324391 -0.156668   0.121570   \n",
       "9             0.518539              0.429782 -1.838877  0.530441  -1.115464   \n",
       "\n",
       "    type  type_encode  \n",
       "0    Red            0  \n",
       "1    Red            0  \n",
       "2    Red            0  \n",
       "3    Red            0  \n",
       "4    Red            0  \n",
       "5  White            1  \n",
       "6  White            1  \n",
       "7  White            1  \n",
       "8  White            1  \n",
       "9  White            1  "
      ]
     },
     "execution_count": 69,
     "metadata": {},
     "output_type": "execute_result"
    }
   ],
   "source": [
    "rw_10 = pd.concat([r_5,w_5],ignore_index=True)\n",
    "rw_10"
   ]
  },
  {
   "cell_type": "code",
   "execution_count": 71,
   "metadata": {},
   "outputs": [],
   "source": [
    "rw_10 = rw_10.sample(frac=1)"
   ]
  },
  {
   "cell_type": "code",
   "execution_count": 84,
   "metadata": {},
   "outputs": [
    {
     "data": {
      "text/html": [
       "<div>\n",
       "<style scoped>\n",
       "    .dataframe tbody tr th:only-of-type {\n",
       "        vertical-align: middle;\n",
       "    }\n",
       "\n",
       "    .dataframe tbody tr th {\n",
       "        vertical-align: top;\n",
       "    }\n",
       "\n",
       "    .dataframe thead th {\n",
       "        text-align: right;\n",
       "    }\n",
       "</style>\n",
       "<table border=\"1\" class=\"dataframe\">\n",
       "  <thead>\n",
       "    <tr style=\"text-align: right;\">\n",
       "      <th></th>\n",
       "      <th>fixed acidity</th>\n",
       "      <th>volatile acidity</th>\n",
       "      <th>citric acid</th>\n",
       "      <th>residual sugar</th>\n",
       "      <th>chlorides</th>\n",
       "      <th>free sulfur dioxide</th>\n",
       "      <th>total sulfur dioxide</th>\n",
       "      <th>density</th>\n",
       "      <th>pH</th>\n",
       "      <th>sulphates</th>\n",
       "      <th>type</th>\n",
       "      <th>type_encode</th>\n",
       "    </tr>\n",
       "  </thead>\n",
       "  <tbody>\n",
       "    <tr>\n",
       "      <th>9</th>\n",
       "      <td>-0.770316</td>\n",
       "      <td>-0.321320</td>\n",
       "      <td>0.016299</td>\n",
       "      <td>-0.324823</td>\n",
       "      <td>-0.863424</td>\n",
       "      <td>0.518539</td>\n",
       "      <td>0.429782</td>\n",
       "      <td>-1.838877</td>\n",
       "      <td>0.530441</td>\n",
       "      <td>-1.115464</td>\n",
       "      <td>White</td>\n",
       "      <td>1</td>\n",
       "    </tr>\n",
       "    <tr>\n",
       "      <th>4</th>\n",
       "      <td>0.145607</td>\n",
       "      <td>1.232412</td>\n",
       "      <td>-0.673921</td>\n",
       "      <td>-0.642358</td>\n",
       "      <td>1.404451</td>\n",
       "      <td>-1.032917</td>\n",
       "      <td>-0.743968</td>\n",
       "      <td>0.476442</td>\n",
       "      <td>-1.093635</td>\n",
       "      <td>0.671362</td>\n",
       "      <td>Red</td>\n",
       "      <td>0</td>\n",
       "    </tr>\n",
       "    <tr>\n",
       "      <th>1</th>\n",
       "      <td>0.832549</td>\n",
       "      <td>2.487350</td>\n",
       "      <td>-0.190767</td>\n",
       "      <td>-0.188736</td>\n",
       "      <td>0.525649</td>\n",
       "      <td>-1.032917</td>\n",
       "      <td>-1.739878</td>\n",
       "      <td>0.683784</td>\n",
       "      <td>1.404944</td>\n",
       "      <td>1.014983</td>\n",
       "      <td>Red</td>\n",
       "      <td>0</td>\n",
       "    </tr>\n",
       "    <tr>\n",
       "      <th>3</th>\n",
       "      <td>0.679896</td>\n",
       "      <td>2.248314</td>\n",
       "      <td>-1.571207</td>\n",
       "      <td>-0.506271</td>\n",
       "      <td>0.780785</td>\n",
       "      <td>-0.688149</td>\n",
       "      <td>-1.153003</td>\n",
       "      <td>1.685937</td>\n",
       "      <td>1.280015</td>\n",
       "      <td>1.289879</td>\n",
       "      <td>Red</td>\n",
       "      <td>0</td>\n",
       "    </tr>\n",
       "    <tr>\n",
       "      <th>6</th>\n",
       "      <td>-1.228278</td>\n",
       "      <td>0.873859</td>\n",
       "      <td>-1.295119</td>\n",
       "      <td>-0.120693</td>\n",
       "      <td>-0.494895</td>\n",
       "      <td>-0.745610</td>\n",
       "      <td>0.038532</td>\n",
       "      <td>-1.320522</td>\n",
       "      <td>1.217550</td>\n",
       "      <td>2.526912</td>\n",
       "      <td>White</td>\n",
       "      <td>1</td>\n",
       "    </tr>\n",
       "    <tr>\n",
       "      <th>8</th>\n",
       "      <td>0.221934</td>\n",
       "      <td>-0.978668</td>\n",
       "      <td>0.361409</td>\n",
       "      <td>0.264886</td>\n",
       "      <td>-0.183062</td>\n",
       "      <td>-0.515765</td>\n",
       "      <td>0.429782</td>\n",
       "      <td>0.324391</td>\n",
       "      <td>-0.156668</td>\n",
       "      <td>0.121570</td>\n",
       "      <td>White</td>\n",
       "      <td>1</td>\n",
       "    </tr>\n",
       "    <tr>\n",
       "      <th>0</th>\n",
       "      <td>0.221934</td>\n",
       "      <td>1.053136</td>\n",
       "      <td>0.706518</td>\n",
       "      <td>-0.619677</td>\n",
       "      <td>0.865830</td>\n",
       "      <td>-1.262762</td>\n",
       "      <td>-1.348628</td>\n",
       "      <td>0.925683</td>\n",
       "      <td>2.216982</td>\n",
       "      <td>0.533914</td>\n",
       "      <td>Red</td>\n",
       "      <td>0</td>\n",
       "    </tr>\n",
       "    <tr>\n",
       "      <th>2</th>\n",
       "      <td>-0.007047</td>\n",
       "      <td>0.216511</td>\n",
       "      <td>-0.052723</td>\n",
       "      <td>-0.687720</td>\n",
       "      <td>-0.012971</td>\n",
       "      <td>-0.860533</td>\n",
       "      <td>-1.508684</td>\n",
       "      <td>0.068669</td>\n",
       "      <td>0.030726</td>\n",
       "      <td>1.564775</td>\n",
       "      <td>Red</td>\n",
       "      <td>0</td>\n",
       "    </tr>\n",
       "    <tr>\n",
       "      <th>7</th>\n",
       "      <td>-0.388681</td>\n",
       "      <td>-0.620114</td>\n",
       "      <td>0.982606</td>\n",
       "      <td>-0.642358</td>\n",
       "      <td>-0.664985</td>\n",
       "      <td>-0.630687</td>\n",
       "      <td>-0.050389</td>\n",
       "      <td>-1.406914</td>\n",
       "      <td>-0.781312</td>\n",
       "      <td>0.602638</td>\n",
       "      <td>White</td>\n",
       "      <td>1</td>\n",
       "    </tr>\n",
       "    <tr>\n",
       "      <th>5</th>\n",
       "      <td>-0.236028</td>\n",
       "      <td>-0.082284</td>\n",
       "      <td>-0.259789</td>\n",
       "      <td>-0.846488</td>\n",
       "      <td>-0.154713</td>\n",
       "      <td>0.403617</td>\n",
       "      <td>1.301202</td>\n",
       "      <td>-0.629382</td>\n",
       "      <td>0.280583</td>\n",
       "      <td>0.465190</td>\n",
       "      <td>White</td>\n",
       "      <td>1</td>\n",
       "    </tr>\n",
       "  </tbody>\n",
       "</table>\n",
       "</div>"
      ],
      "text/plain": [
       "   fixed acidity  volatile acidity  citric acid  residual sugar  chlorides  \\\n",
       "9      -0.770316         -0.321320     0.016299       -0.324823  -0.863424   \n",
       "4       0.145607          1.232412    -0.673921       -0.642358   1.404451   \n",
       "1       0.832549          2.487350    -0.190767       -0.188736   0.525649   \n",
       "3       0.679896          2.248314    -1.571207       -0.506271   0.780785   \n",
       "6      -1.228278          0.873859    -1.295119       -0.120693  -0.494895   \n",
       "8       0.221934         -0.978668     0.361409        0.264886  -0.183062   \n",
       "0       0.221934          1.053136     0.706518       -0.619677   0.865830   \n",
       "2      -0.007047          0.216511    -0.052723       -0.687720  -0.012971   \n",
       "7      -0.388681         -0.620114     0.982606       -0.642358  -0.664985   \n",
       "5      -0.236028         -0.082284    -0.259789       -0.846488  -0.154713   \n",
       "\n",
       "   free sulfur dioxide  total sulfur dioxide   density        pH  sulphates  \\\n",
       "9             0.518539              0.429782 -1.838877  0.530441  -1.115464   \n",
       "4            -1.032917             -0.743968  0.476442 -1.093635   0.671362   \n",
       "1            -1.032917             -1.739878  0.683784  1.404944   1.014983   \n",
       "3            -0.688149             -1.153003  1.685937  1.280015   1.289879   \n",
       "6            -0.745610              0.038532 -1.320522  1.217550   2.526912   \n",
       "8            -0.515765              0.429782  0.324391 -0.156668   0.121570   \n",
       "0            -1.262762             -1.348628  0.925683  2.216982   0.533914   \n",
       "2            -0.860533             -1.508684  0.068669  0.030726   1.564775   \n",
       "7            -0.630687             -0.050389 -1.406914 -0.781312   0.602638   \n",
       "5             0.403617              1.301202 -0.629382  0.280583   0.465190   \n",
       "\n",
       "    type  type_encode  \n",
       "9  White            1  \n",
       "4    Red            0  \n",
       "1    Red            0  \n",
       "3    Red            0  \n",
       "6  White            1  \n",
       "8  White            1  \n",
       "0    Red            0  \n",
       "2    Red            0  \n",
       "7  White            1  \n",
       "5  White            1  "
      ]
     },
     "execution_count": 84,
     "metadata": {},
     "output_type": "execute_result"
    }
   ],
   "source": [
    "rw_10"
   ]
  },
  {
   "cell_type": "code",
   "execution_count": 85,
   "metadata": {},
   "outputs": [],
   "source": [
    "rw_10_x = rw_10.drop(['type', 'type_encode'],axis=1)\n",
    "rw_10_Y = rw_10['type_encode']"
   ]
  },
  {
   "cell_type": "code",
   "execution_count": 86,
   "metadata": {},
   "outputs": [
    {
     "data": {
      "text/plain": [
       "9    1\n",
       "4    0\n",
       "1    0\n",
       "3    0\n",
       "6    1\n",
       "8    1\n",
       "0    0\n",
       "2    0\n",
       "7    1\n",
       "5    1\n",
       "Name: type_encode, dtype: int32"
      ]
     },
     "execution_count": 86,
     "metadata": {},
     "output_type": "execute_result"
    }
   ],
   "source": [
    "rw_10_Y"
   ]
  },
  {
   "cell_type": "code",
   "execution_count": 87,
   "metadata": {},
   "outputs": [],
   "source": [
    "y_pred_rw10 = clf3.predict(rw_10_x)"
   ]
  },
  {
   "cell_type": "code",
   "execution_count": 88,
   "metadata": {},
   "outputs": [],
   "source": [
    "y_prueba = pd.Series(y_pred_rw10)"
   ]
  },
  {
   "cell_type": "code",
   "execution_count": 90,
   "metadata": {},
   "outputs": [
    {
     "data": {
      "text/plain": [
       "1.0"
      ]
     },
     "execution_count": 90,
     "metadata": {},
     "output_type": "execute_result"
    }
   ],
   "source": [
    "accuracy_score(rw_10_Y,y_prueba)"
   ]
  },
  {
   "cell_type": "code",
   "execution_count": 91,
   "metadata": {},
   "outputs": [],
   "source": [
    "y_pred_rw10 = clf2.predict(rw_10_x)"
   ]
  },
  {
   "cell_type": "code",
   "execution_count": 92,
   "metadata": {},
   "outputs": [
    {
     "data": {
      "text/plain": [
       "1.0"
      ]
     },
     "execution_count": 92,
     "metadata": {},
     "output_type": "execute_result"
    }
   ],
   "source": [
    "y_prueba = pd.Series(y_pred_rw10)\n",
    "accuracy_score(rw_10_Y,y_prueba)"
   ]
  },
  {
   "cell_type": "code",
   "execution_count": 93,
   "metadata": {},
   "outputs": [
    {
     "data": {
      "text/plain": [
       "0.9"
      ]
     },
     "execution_count": 93,
     "metadata": {},
     "output_type": "execute_result"
    }
   ],
   "source": [
    "y_pred_rw10 = clf1.predict(rw_10_x)\n",
    "y_prueba = pd.Series(y_pred_rw10)\n",
    "accuracy_score(rw_10_Y,y_prueba)"
   ]
  },
  {
   "cell_type": "code",
   "execution_count": 94,
   "metadata": {},
   "outputs": [
    {
     "data": {
      "text/plain": [
       "1.0"
      ]
     },
     "execution_count": 94,
     "metadata": {},
     "output_type": "execute_result"
    }
   ],
   "source": [
    "y_pred_rw10 = clf4.predict(rw_10_x)\n",
    "y_prueba = pd.Series(y_pred_rw10)\n",
    "accuracy_score(rw_10_Y,y_prueba)"
   ]
  },
  {
   "cell_type": "code",
   "execution_count": 95,
   "metadata": {},
   "outputs": [
    {
     "data": {
      "text/plain": [
       "1.0"
      ]
     },
     "execution_count": 95,
     "metadata": {},
     "output_type": "execute_result"
    }
   ],
   "source": [
    "y_pred_rw10 = clf5.predict(rw_10_x)\n",
    "y_prueba = pd.Series(y_pred_rw10)\n",
    "accuracy_score(rw_10_Y,y_prueba)"
   ]
  },
  {
   "cell_type": "markdown",
   "metadata": {},
   "source": [
    "#### Conclusion"
   ]
  },
  {
   "cell_type": "markdown",
   "metadata": {},
   "source": [
    "Se probaron diferentes algoritmos de clasificacion para encontrar el tipo de vino segun sus caracteristicas. En orden de mejor a menor encontramos:"
   ]
  },
  {
   "cell_type": "markdown",
   "metadata": {},
   "source": [
    "* SVM\n",
    "* Logistic Regression\n",
    "* KNN\n",
    "* Random Forest \n",
    "* Decision Tree"
   ]
  },
  {
   "cell_type": "markdown",
   "metadata": {},
   "source": [
    "De igual forma en la prueba con nuevos datos aleatorios. Encontramos que SVM, LogisticRegression, RandomForest y Decision Tree tuvieron una clasificacion 10/10, mientras que KNN obtuvo 9/10 en su clasificacion."
   ]
  }
 ],
 "metadata": {
  "interpreter": {
   "hash": "46327b6bb16798f80635706720d32319bb9fd65aa2f1c2afb04f8d6b7da62462"
  },
  "kernelspec": {
   "display_name": "Python 3.7.6 64-bit",
   "language": "python",
   "name": "python3"
  },
  "language_info": {
   "codemirror_mode": {
    "name": "ipython",
    "version": 3
   },
   "file_extension": ".py",
   "mimetype": "text/x-python",
   "name": "python",
   "nbconvert_exporter": "python",
   "pygments_lexer": "ipython3",
   "version": "3.7.6"
  },
  "orig_nbformat": 4
 },
 "nbformat": 4,
 "nbformat_minor": 2
}
